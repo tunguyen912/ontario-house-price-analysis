{
 "cells": [
  {
   "cell_type": "markdown",
   "metadata": {},
   "source": [
    "## Course: AI with Python\n",
    "## Course Code: COMP3122\n",
    "### FINAL PROJECT\n",
    "### Topic: Ontario House Price Analysing\n",
    "### Team: Plus 84\n",
    "| ID | Team Member   |\n",
    "|------|------|\n",
    "|   101140366  | Thong Nguyen|\n",
    "|   1XXXXXXXX  | Quang Pham|\n",
    "|   1XXXXXXXX  | Tu Nguyen|\n",
    "|   1XXXXXXXX  | Thanh Quan|\n",
    "|   1XXXXXXXX | Elham Salmanian|"
   ]
  },
  {
   "cell_type": "code",
   "execution_count": 50,
   "metadata": {},
   "outputs": [],
   "source": [
    "# Import data analysis modules\n",
    "import numpy as np\n",
    "import pandas as pd\n",
    "# Import visualization modules\n",
    "import matplotlib.pyplot as plt\n",
    "import seaborn as sns\n",
    "%matplotlib inline"
   ]
  },
  {
   "cell_type": "code",
   "execution_count": 51,
   "metadata": {},
   "outputs": [],
   "source": [
    "# Data Cleaning\n",
    "houses = pd.read_csv('./properties.csv')"
   ]
  },
  {
   "cell_type": "code",
   "execution_count": 52,
   "metadata": {},
   "outputs": [
    {
     "data": {
      "text/html": [
       "<div>\n",
       "<style scoped>\n",
       "    .dataframe tbody tr th:only-of-type {\n",
       "        vertical-align: middle;\n",
       "    }\n",
       "\n",
       "    .dataframe tbody tr th {\n",
       "        vertical-align: top;\n",
       "    }\n",
       "\n",
       "    .dataframe thead th {\n",
       "        text-align: right;\n",
       "    }\n",
       "</style>\n",
       "<table border=\"1\" class=\"dataframe\">\n",
       "  <thead>\n",
       "    <tr style=\"text-align: right;\">\n",
       "      <th></th>\n",
       "      <th>Unnamed: 0</th>\n",
       "      <th>Address</th>\n",
       "      <th>AreaName</th>\n",
       "      <th>Price ($)</th>\n",
       "      <th>lat</th>\n",
       "      <th>lng</th>\n",
       "    </tr>\n",
       "  </thead>\n",
       "  <tbody>\n",
       "    <tr>\n",
       "      <td>0</td>\n",
       "      <td>0</td>\n",
       "      <td>86 Waterford Dr Toronto, ON</td>\n",
       "      <td>Richview</td>\n",
       "      <td>999888</td>\n",
       "      <td>43.679882</td>\n",
       "      <td>-79.544266</td>\n",
       "    </tr>\n",
       "    <tr>\n",
       "      <td>1</td>\n",
       "      <td>1</td>\n",
       "      <td>#80 - 100 BEDDOE DR Hamilton, ON</td>\n",
       "      <td>Chedoke Park B</td>\n",
       "      <td>399900</td>\n",
       "      <td>43.250000</td>\n",
       "      <td>-79.904396</td>\n",
       "    </tr>\n",
       "    <tr>\n",
       "      <td>2</td>\n",
       "      <td>2</td>\n",
       "      <td>213 Bowman Street Hamilton, ON</td>\n",
       "      <td>Ainslie Wood East</td>\n",
       "      <td>479000</td>\n",
       "      <td>43.251690</td>\n",
       "      <td>-79.919357</td>\n",
       "    </tr>\n",
       "    <tr>\n",
       "      <td>3</td>\n",
       "      <td>3</td>\n",
       "      <td>102 NEIL Avenue Hamilton, ON</td>\n",
       "      <td>Greenford</td>\n",
       "      <td>285900</td>\n",
       "      <td>43.227161</td>\n",
       "      <td>-79.767403</td>\n",
       "    </tr>\n",
       "    <tr>\n",
       "      <td>4</td>\n",
       "      <td>6</td>\n",
       "      <td>#1409 - 230 King St Toronto, ON</td>\n",
       "      <td>Downtown</td>\n",
       "      <td>362000</td>\n",
       "      <td>43.651478</td>\n",
       "      <td>-79.368118</td>\n",
       "    </tr>\n",
       "  </tbody>\n",
       "</table>\n",
       "</div>"
      ],
      "text/plain": [
       "   Unnamed: 0                           Address           AreaName  Price ($)  \\\n",
       "0           0       86 Waterford Dr Toronto, ON           Richview     999888   \n",
       "1           1  #80 - 100 BEDDOE DR Hamilton, ON     Chedoke Park B     399900   \n",
       "2           2    213 Bowman Street Hamilton, ON  Ainslie Wood East     479000   \n",
       "3           3      102 NEIL Avenue Hamilton, ON          Greenford     285900   \n",
       "4           6   #1409 - 230 King St Toronto, ON           Downtown     362000   \n",
       "\n",
       "         lat        lng  \n",
       "0  43.679882 -79.544266  \n",
       "1  43.250000 -79.904396  \n",
       "2  43.251690 -79.919357  \n",
       "3  43.227161 -79.767403  \n",
       "4  43.651478 -79.368118  "
      ]
     },
     "execution_count": 52,
     "metadata": {},
     "output_type": "execute_result"
    }
   ],
   "source": [
    "houses.head()"
   ]
  },
  {
   "cell_type": "code",
   "execution_count": 53,
   "metadata": {},
   "outputs": [],
   "source": [
    "# Rename column\n",
    "new_cols = ['id','address','area_name','price','latitude','longitude']\n",
    "houses.columns = new_cols"
   ]
  },
  {
   "cell_type": "code",
   "execution_count": 54,
   "metadata": {},
   "outputs": [
    {
     "data": {
      "text/html": [
       "<div>\n",
       "<style scoped>\n",
       "    .dataframe tbody tr th:only-of-type {\n",
       "        vertical-align: middle;\n",
       "    }\n",
       "\n",
       "    .dataframe tbody tr th {\n",
       "        vertical-align: top;\n",
       "    }\n",
       "\n",
       "    .dataframe thead th {\n",
       "        text-align: right;\n",
       "    }\n",
       "</style>\n",
       "<table border=\"1\" class=\"dataframe\">\n",
       "  <thead>\n",
       "    <tr style=\"text-align: right;\">\n",
       "      <th></th>\n",
       "      <th>id</th>\n",
       "      <th>address</th>\n",
       "      <th>area_name</th>\n",
       "      <th>price</th>\n",
       "      <th>latitude</th>\n",
       "      <th>longitude</th>\n",
       "    </tr>\n",
       "  </thead>\n",
       "  <tbody>\n",
       "    <tr>\n",
       "      <td>0</td>\n",
       "      <td>0</td>\n",
       "      <td>86 Waterford Dr Toronto, ON</td>\n",
       "      <td>Richview</td>\n",
       "      <td>999888</td>\n",
       "      <td>43.679882</td>\n",
       "      <td>-79.544266</td>\n",
       "    </tr>\n",
       "    <tr>\n",
       "      <td>1</td>\n",
       "      <td>1</td>\n",
       "      <td>#80 - 100 BEDDOE DR Hamilton, ON</td>\n",
       "      <td>Chedoke Park B</td>\n",
       "      <td>399900</td>\n",
       "      <td>43.250000</td>\n",
       "      <td>-79.904396</td>\n",
       "    </tr>\n",
       "    <tr>\n",
       "      <td>2</td>\n",
       "      <td>2</td>\n",
       "      <td>213 Bowman Street Hamilton, ON</td>\n",
       "      <td>Ainslie Wood East</td>\n",
       "      <td>479000</td>\n",
       "      <td>43.251690</td>\n",
       "      <td>-79.919357</td>\n",
       "    </tr>\n",
       "    <tr>\n",
       "      <td>3</td>\n",
       "      <td>3</td>\n",
       "      <td>102 NEIL Avenue Hamilton, ON</td>\n",
       "      <td>Greenford</td>\n",
       "      <td>285900</td>\n",
       "      <td>43.227161</td>\n",
       "      <td>-79.767403</td>\n",
       "    </tr>\n",
       "    <tr>\n",
       "      <td>4</td>\n",
       "      <td>6</td>\n",
       "      <td>#1409 - 230 King St Toronto, ON</td>\n",
       "      <td>Downtown</td>\n",
       "      <td>362000</td>\n",
       "      <td>43.651478</td>\n",
       "      <td>-79.368118</td>\n",
       "    </tr>\n",
       "  </tbody>\n",
       "</table>\n",
       "</div>"
      ],
      "text/plain": [
       "   id                           address          area_name   price   latitude  \\\n",
       "0   0       86 Waterford Dr Toronto, ON           Richview  999888  43.679882   \n",
       "1   1  #80 - 100 BEDDOE DR Hamilton, ON     Chedoke Park B  399900  43.250000   \n",
       "2   2    213 Bowman Street Hamilton, ON  Ainslie Wood East  479000  43.251690   \n",
       "3   3      102 NEIL Avenue Hamilton, ON          Greenford  285900  43.227161   \n",
       "4   6   #1409 - 230 King St Toronto, ON           Downtown  362000  43.651478   \n",
       "\n",
       "   longitude  \n",
       "0 -79.544266  \n",
       "1 -79.904396  \n",
       "2 -79.919357  \n",
       "3 -79.767403  \n",
       "4 -79.368118  "
      ]
     },
     "execution_count": 54,
     "metadata": {},
     "output_type": "execute_result"
    }
   ],
   "source": [
    "houses.head()"
   ]
  },
  {
   "cell_type": "code",
   "execution_count": 55,
   "metadata": {},
   "outputs": [
    {
     "data": {
      "text/plain": [
       "id           float64\n",
       "price        float64\n",
       "latitude     float64\n",
       "longitude    float64\n",
       "dtype: object"
      ]
     },
     "execution_count": 55,
     "metadata": {},
     "output_type": "execute_result"
    }
   ],
   "source": [
    "houses.describe().dtypes"
   ]
  },
  {
   "cell_type": "code",
   "execution_count": 56,
   "metadata": {},
   "outputs": [
    {
     "data": {
      "text/plain": [
       "count       25351\n",
       "mean       564543\n",
       "std        847596\n",
       "min             0\n",
       "25%        219900\n",
       "50%        371900\n",
       "75%        619900\n",
       "max      32500000\n",
       "Name: price, dtype: int64"
      ]
     },
     "execution_count": 56,
     "metadata": {},
     "output_type": "execute_result"
    }
   ],
   "source": [
    "houses.describe().price.astype('int64')"
   ]
  },
  {
   "cell_type": "code",
   "execution_count": 57,
   "metadata": {},
   "outputs": [
    {
     "data": {
      "text/html": [
       "<div>\n",
       "<style scoped>\n",
       "    .dataframe tbody tr th:only-of-type {\n",
       "        vertical-align: middle;\n",
       "    }\n",
       "\n",
       "    .dataframe tbody tr th {\n",
       "        vertical-align: top;\n",
       "    }\n",
       "\n",
       "    .dataframe thead th {\n",
       "        text-align: right;\n",
       "    }\n",
       "</style>\n",
       "<table border=\"1\" class=\"dataframe\">\n",
       "  <thead>\n",
       "    <tr style=\"text-align: right;\">\n",
       "      <th></th>\n",
       "      <th>id</th>\n",
       "      <th>address</th>\n",
       "      <th>area_name</th>\n",
       "      <th>price</th>\n",
       "      <th>latitude</th>\n",
       "      <th>longitude</th>\n",
       "    </tr>\n",
       "  </thead>\n",
       "  <tbody>\n",
       "    <tr>\n",
       "      <td>6</td>\n",
       "      <td>8</td>\n",
       "      <td>532 Caledonia Rd Toronto, ON</td>\n",
       "      <td>Fairbank</td>\n",
       "      <td>25</td>\n",
       "      <td>43.691193</td>\n",
       "      <td>-79.461662</td>\n",
       "    </tr>\n",
       "    <tr>\n",
       "      <td>11</td>\n",
       "      <td>19</td>\n",
       "      <td>47 Armstrong Ave Toronto, ON</td>\n",
       "      <td>Wallace Emerson</td>\n",
       "      <td>113</td>\n",
       "      <td>43.664101</td>\n",
       "      <td>-79.439751</td>\n",
       "    </tr>\n",
       "    <tr>\n",
       "      <td>13</td>\n",
       "      <td>21</td>\n",
       "      <td>#808 - 2167 Lake Shore Blvd Toronto, ON</td>\n",
       "      <td>Parkdale</td>\n",
       "      <td>97</td>\n",
       "      <td>43.635578</td>\n",
       "      <td>-79.441345</td>\n",
       "    </tr>\n",
       "    <tr>\n",
       "      <td>14</td>\n",
       "      <td>22</td>\n",
       "      <td>#2706 - 2167 Lake Shore Blvd Toronto, ON</td>\n",
       "      <td>Parkdale</td>\n",
       "      <td>49</td>\n",
       "      <td>43.635578</td>\n",
       "      <td>-79.441345</td>\n",
       "    </tr>\n",
       "    <tr>\n",
       "      <td>16</td>\n",
       "      <td>24</td>\n",
       "      <td>#A - 753 Shaw St Toronto, ON</td>\n",
       "      <td>Midtown Toronto</td>\n",
       "      <td>97</td>\n",
       "      <td>43.662872</td>\n",
       "      <td>-79.423233</td>\n",
       "    </tr>\n",
       "    <tr>\n",
       "      <td>...</td>\n",
       "      <td>...</td>\n",
       "      <td>...</td>\n",
       "      <td>...</td>\n",
       "      <td>...</td>\n",
       "      <td>...</td>\n",
       "      <td>...</td>\n",
       "    </tr>\n",
       "    <tr>\n",
       "      <td>25302</td>\n",
       "      <td>124872</td>\n",
       "      <td>5317 Upper Middle Road Burlington, ON</td>\n",
       "      <td>Burlington</td>\n",
       "      <td>1500</td>\n",
       "      <td>43.402462</td>\n",
       "      <td>-79.782341</td>\n",
       "    </tr>\n",
       "    <tr>\n",
       "      <td>25307</td>\n",
       "      <td>124878</td>\n",
       "      <td>456 GRAY Road Stoney Creek, ON</td>\n",
       "      <td>Stoney Creek</td>\n",
       "      <td>0</td>\n",
       "      <td>43.230606</td>\n",
       "      <td>-79.741020</td>\n",
       "    </tr>\n",
       "    <tr>\n",
       "      <td>25311</td>\n",
       "      <td>124882</td>\n",
       "      <td>238 Lakeshore Road Oakville, ON</td>\n",
       "      <td>Oakville</td>\n",
       "      <td>18</td>\n",
       "      <td>43.446323</td>\n",
       "      <td>-79.667381</td>\n",
       "    </tr>\n",
       "    <tr>\n",
       "      <td>25332</td>\n",
       "      <td>124906</td>\n",
       "      <td>156 PARKDALE Avenue Hamilton, ON</td>\n",
       "      <td>Normanhurst</td>\n",
       "      <td>0</td>\n",
       "      <td>43.240665</td>\n",
       "      <td>-79.790024</td>\n",
       "    </tr>\n",
       "    <tr>\n",
       "      <td>25333</td>\n",
       "      <td>124907</td>\n",
       "      <td>115 BARNESDALE Avenue Hamilton, ON</td>\n",
       "      <td>Stipley</td>\n",
       "      <td>0</td>\n",
       "      <td>43.255402</td>\n",
       "      <td>-79.833527</td>\n",
       "    </tr>\n",
       "  </tbody>\n",
       "</table>\n",
       "<p>2125 rows × 6 columns</p>\n",
       "</div>"
      ],
      "text/plain": [
       "           id                                   address        area_name  \\\n",
       "6           8              532 Caledonia Rd Toronto, ON         Fairbank   \n",
       "11         19              47 Armstrong Ave Toronto, ON  Wallace Emerson   \n",
       "13         21   #808 - 2167 Lake Shore Blvd Toronto, ON         Parkdale   \n",
       "14         22  #2706 - 2167 Lake Shore Blvd Toronto, ON         Parkdale   \n",
       "16         24              #A - 753 Shaw St Toronto, ON  Midtown Toronto   \n",
       "...       ...                                       ...              ...   \n",
       "25302  124872     5317 Upper Middle Road Burlington, ON       Burlington   \n",
       "25307  124878            456 GRAY Road Stoney Creek, ON     Stoney Creek   \n",
       "25311  124882           238 Lakeshore Road Oakville, ON         Oakville   \n",
       "25332  124906          156 PARKDALE Avenue Hamilton, ON      Normanhurst   \n",
       "25333  124907        115 BARNESDALE Avenue Hamilton, ON          Stipley   \n",
       "\n",
       "       price   latitude  longitude  \n",
       "6         25  43.691193 -79.461662  \n",
       "11       113  43.664101 -79.439751  \n",
       "13        97  43.635578 -79.441345  \n",
       "14        49  43.635578 -79.441345  \n",
       "16        97  43.662872 -79.423233  \n",
       "...      ...        ...        ...  \n",
       "25302   1500  43.402462 -79.782341  \n",
       "25307      0  43.230606 -79.741020  \n",
       "25311     18  43.446323 -79.667381  \n",
       "25332      0  43.240665 -79.790024  \n",
       "25333      0  43.255402 -79.833527  \n",
       "\n",
       "[2125 rows x 6 columns]"
      ]
     },
     "execution_count": 57,
     "metadata": {},
     "output_type": "execute_result"
    }
   ],
   "source": [
    "# Delete houses that are lower than 80k or contains null value\n",
    "houses[houses.price < 80000]"
   ]
  },
  {
   "cell_type": "code",
   "execution_count": 58,
   "metadata": {},
   "outputs": [
    {
     "data": {
      "text/html": [
       "<div>\n",
       "<style scoped>\n",
       "    .dataframe tbody tr th:only-of-type {\n",
       "        vertical-align: middle;\n",
       "    }\n",
       "\n",
       "    .dataframe tbody tr th {\n",
       "        vertical-align: top;\n",
       "    }\n",
       "\n",
       "    .dataframe thead th {\n",
       "        text-align: right;\n",
       "    }\n",
       "</style>\n",
       "<table border=\"1\" class=\"dataframe\">\n",
       "  <thead>\n",
       "    <tr style=\"text-align: right;\">\n",
       "      <th></th>\n",
       "      <th>id</th>\n",
       "      <th>address</th>\n",
       "      <th>area_name</th>\n",
       "      <th>price</th>\n",
       "      <th>latitude</th>\n",
       "      <th>longitude</th>\n",
       "    </tr>\n",
       "  </thead>\n",
       "  <tbody>\n",
       "    <tr>\n",
       "      <td>0</td>\n",
       "      <td>0</td>\n",
       "      <td>86 Waterford Dr Toronto, ON</td>\n",
       "      <td>Richview</td>\n",
       "      <td>999888</td>\n",
       "      <td>43.679882</td>\n",
       "      <td>-79.544266</td>\n",
       "    </tr>\n",
       "    <tr>\n",
       "      <td>1</td>\n",
       "      <td>1</td>\n",
       "      <td>#80 - 100 BEDDOE DR Hamilton, ON</td>\n",
       "      <td>Chedoke Park B</td>\n",
       "      <td>399900</td>\n",
       "      <td>43.250000</td>\n",
       "      <td>-79.904396</td>\n",
       "    </tr>\n",
       "    <tr>\n",
       "      <td>2</td>\n",
       "      <td>2</td>\n",
       "      <td>213 Bowman Street Hamilton, ON</td>\n",
       "      <td>Ainslie Wood East</td>\n",
       "      <td>479000</td>\n",
       "      <td>43.251690</td>\n",
       "      <td>-79.919357</td>\n",
       "    </tr>\n",
       "    <tr>\n",
       "      <td>3</td>\n",
       "      <td>3</td>\n",
       "      <td>102 NEIL Avenue Hamilton, ON</td>\n",
       "      <td>Greenford</td>\n",
       "      <td>285900</td>\n",
       "      <td>43.227161</td>\n",
       "      <td>-79.767403</td>\n",
       "    </tr>\n",
       "    <tr>\n",
       "      <td>4</td>\n",
       "      <td>6</td>\n",
       "      <td>#1409 - 230 King St Toronto, ON</td>\n",
       "      <td>Downtown</td>\n",
       "      <td>362000</td>\n",
       "      <td>43.651478</td>\n",
       "      <td>-79.368118</td>\n",
       "    </tr>\n",
       "    <tr>\n",
       "      <td>...</td>\n",
       "      <td>...</td>\n",
       "      <td>...</td>\n",
       "      <td>...</td>\n",
       "      <td>...</td>\n",
       "      <td>...</td>\n",
       "      <td>...</td>\n",
       "    </tr>\n",
       "    <tr>\n",
       "      <td>25346</td>\n",
       "      <td>124922</td>\n",
       "      <td>3100 CARLING AVENUE UNIT#416 Ottawa, ON</td>\n",
       "      <td>Bayshore</td>\n",
       "      <td>154900</td>\n",
       "      <td>45.353519</td>\n",
       "      <td>-75.807793</td>\n",
       "    </tr>\n",
       "    <tr>\n",
       "      <td>25347</td>\n",
       "      <td>124924</td>\n",
       "      <td>5827 GLADEWOODS PLACE Ottawa, ON</td>\n",
       "      <td>Orléans</td>\n",
       "      <td>624900</td>\n",
       "      <td>45.441273</td>\n",
       "      <td>-75.532745</td>\n",
       "    </tr>\n",
       "    <tr>\n",
       "      <td>25348</td>\n",
       "      <td>124925</td>\n",
       "      <td>6349 DEERMEADOW DRIVE Ottawa, ON</td>\n",
       "      <td>Greely</td>\n",
       "      <td>899000</td>\n",
       "      <td>45.238155</td>\n",
       "      <td>-75.602249</td>\n",
       "    </tr>\n",
       "    <tr>\n",
       "      <td>25349</td>\n",
       "      <td>124928</td>\n",
       "      <td>212 ALVIN ROAD Ottawa, ON</td>\n",
       "      <td>Rockcliffe - Manor Park</td>\n",
       "      <td>295000</td>\n",
       "      <td>45.453838</td>\n",
       "      <td>-75.650040</td>\n",
       "    </tr>\n",
       "    <tr>\n",
       "      <td>25350</td>\n",
       "      <td>124929</td>\n",
       "      <td>BARTON Street BARTON Street Stoney Creek, ON</td>\n",
       "      <td>Stoney Creek</td>\n",
       "      <td>1595000</td>\n",
       "      <td>43.220070</td>\n",
       "      <td>-79.689835</td>\n",
       "    </tr>\n",
       "  </tbody>\n",
       "</table>\n",
       "<p>23212 rows × 6 columns</p>\n",
       "</div>"
      ],
      "text/plain": [
       "           id                                       address  \\\n",
       "0           0                   86 Waterford Dr Toronto, ON   \n",
       "1           1              #80 - 100 BEDDOE DR Hamilton, ON   \n",
       "2           2                213 Bowman Street Hamilton, ON   \n",
       "3           3                  102 NEIL Avenue Hamilton, ON   \n",
       "4           6               #1409 - 230 King St Toronto, ON   \n",
       "...       ...                                           ...   \n",
       "25346  124922       3100 CARLING AVENUE UNIT#416 Ottawa, ON   \n",
       "25347  124924              5827 GLADEWOODS PLACE Ottawa, ON   \n",
       "25348  124925              6349 DEERMEADOW DRIVE Ottawa, ON   \n",
       "25349  124928                     212 ALVIN ROAD Ottawa, ON   \n",
       "25350  124929  BARTON Street BARTON Street Stoney Creek, ON   \n",
       "\n",
       "                     area_name    price   latitude  longitude  \n",
       "0                     Richview   999888  43.679882 -79.544266  \n",
       "1               Chedoke Park B   399900  43.250000 -79.904396  \n",
       "2            Ainslie Wood East   479000  43.251690 -79.919357  \n",
       "3                    Greenford   285900  43.227161 -79.767403  \n",
       "4                     Downtown   362000  43.651478 -79.368118  \n",
       "...                        ...      ...        ...        ...  \n",
       "25346                 Bayshore   154900  45.353519 -75.807793  \n",
       "25347                  Orléans   624900  45.441273 -75.532745  \n",
       "25348                   Greely   899000  45.238155 -75.602249  \n",
       "25349  Rockcliffe - Manor Park   295000  45.453838 -75.650040  \n",
       "25350             Stoney Creek  1595000  43.220070 -79.689835  \n",
       "\n",
       "[23212 rows x 6 columns]"
      ]
     },
     "execution_count": 58,
     "metadata": {},
     "output_type": "execute_result"
    }
   ],
   "source": [
    "# Assign the new dataframe to variable houses\n",
    "houses = houses[houses.price > 80000]\n",
    "houses"
   ]
  },
  {
   "cell_type": "code",
   "execution_count": 59,
   "metadata": {},
   "outputs": [
    {
     "data": {
      "text/html": [
       "<div>\n",
       "<style scoped>\n",
       "    .dataframe tbody tr th:only-of-type {\n",
       "        vertical-align: middle;\n",
       "    }\n",
       "\n",
       "    .dataframe tbody tr th {\n",
       "        vertical-align: top;\n",
       "    }\n",
       "\n",
       "    .dataframe thead th {\n",
       "        text-align: right;\n",
       "    }\n",
       "</style>\n",
       "<table border=\"1\" class=\"dataframe\">\n",
       "  <thead>\n",
       "    <tr style=\"text-align: right;\">\n",
       "      <th></th>\n",
       "      <th>id</th>\n",
       "      <th>address</th>\n",
       "      <th>area_name</th>\n",
       "      <th>price</th>\n",
       "      <th>latitude</th>\n",
       "      <th>longitude</th>\n",
       "    </tr>\n",
       "  </thead>\n",
       "  <tbody>\n",
       "  </tbody>\n",
       "</table>\n",
       "</div>"
      ],
      "text/plain": [
       "Empty DataFrame\n",
       "Columns: [id, address, area_name, price, latitude, longitude]\n",
       "Index: []"
      ]
     },
     "execution_count": 59,
     "metadata": {},
     "output_type": "execute_result"
    }
   ],
   "source": [
    "# Check if the above command works\n",
    "houses[houses.price<80000]"
   ]
  },
  {
   "cell_type": "code",
   "execution_count": 60,
   "metadata": {},
   "outputs": [
    {
     "data": {
      "text/plain": [
       "area_name\n",
       "Bridle Path     15183285\n",
       "Appleby          9000000\n",
       "York Mills       4629115\n",
       "Lytton Park      4499900\n",
       "Tempo            4198333\n",
       "                  ...   \n",
       "Cavan              99900\n",
       "Desboro            99500\n",
       "Amesbury           99000\n",
       "Manitouwadge       92000\n",
       "Bombay             89900\n",
       "Name: mean, Length: 1090, dtype: int64"
      ]
     },
     "execution_count": 60,
     "metadata": {},
     "output_type": "execute_result"
    }
   ],
   "source": [
    "# Sort the mean of each area in descending order\n",
    "price_by_area = houses.groupby('area_name').price.agg(['min','max','mean'])\n",
    "price_by_area['mean'].sort_values(ascending=False).astype('int64')"
   ]
  },
  {
   "cell_type": "code",
   "execution_count": 61,
   "metadata": {},
   "outputs": [
    {
     "data": {
      "text/plain": [
       "id             0\n",
       "address        0\n",
       "area_name    415\n",
       "price          0\n",
       "latitude       0\n",
       "longitude      0\n",
       "dtype: int64"
      ]
     },
     "execution_count": 61,
     "metadata": {},
     "output_type": "execute_result"
    }
   ],
   "source": [
    "# Check for null value\n",
    "houses.isnull().sum()"
   ]
  },
  {
   "cell_type": "code",
   "execution_count": 62,
   "metadata": {},
   "outputs": [
    {
     "data": {
      "text/html": [
       "<div>\n",
       "<style scoped>\n",
       "    .dataframe tbody tr th:only-of-type {\n",
       "        vertical-align: middle;\n",
       "    }\n",
       "\n",
       "    .dataframe tbody tr th {\n",
       "        vertical-align: top;\n",
       "    }\n",
       "\n",
       "    .dataframe thead th {\n",
       "        text-align: right;\n",
       "    }\n",
       "</style>\n",
       "<table border=\"1\" class=\"dataframe\">\n",
       "  <thead>\n",
       "    <tr style=\"text-align: right;\">\n",
       "      <th></th>\n",
       "      <th>id</th>\n",
       "      <th>address</th>\n",
       "      <th>area_name</th>\n",
       "      <th>price</th>\n",
       "      <th>latitude</th>\n",
       "      <th>longitude</th>\n",
       "    </tr>\n",
       "  </thead>\n",
       "  <tbody>\n",
       "    <tr>\n",
       "      <td>0</td>\n",
       "      <td>False</td>\n",
       "      <td>False</td>\n",
       "      <td>False</td>\n",
       "      <td>False</td>\n",
       "      <td>False</td>\n",
       "      <td>False</td>\n",
       "    </tr>\n",
       "    <tr>\n",
       "      <td>1</td>\n",
       "      <td>False</td>\n",
       "      <td>False</td>\n",
       "      <td>False</td>\n",
       "      <td>False</td>\n",
       "      <td>False</td>\n",
       "      <td>False</td>\n",
       "    </tr>\n",
       "    <tr>\n",
       "      <td>2</td>\n",
       "      <td>False</td>\n",
       "      <td>False</td>\n",
       "      <td>False</td>\n",
       "      <td>False</td>\n",
       "      <td>False</td>\n",
       "      <td>False</td>\n",
       "    </tr>\n",
       "    <tr>\n",
       "      <td>3</td>\n",
       "      <td>False</td>\n",
       "      <td>False</td>\n",
       "      <td>False</td>\n",
       "      <td>False</td>\n",
       "      <td>False</td>\n",
       "      <td>False</td>\n",
       "    </tr>\n",
       "    <tr>\n",
       "      <td>4</td>\n",
       "      <td>False</td>\n",
       "      <td>False</td>\n",
       "      <td>False</td>\n",
       "      <td>False</td>\n",
       "      <td>False</td>\n",
       "      <td>False</td>\n",
       "    </tr>\n",
       "    <tr>\n",
       "      <td>...</td>\n",
       "      <td>...</td>\n",
       "      <td>...</td>\n",
       "      <td>...</td>\n",
       "      <td>...</td>\n",
       "      <td>...</td>\n",
       "      <td>...</td>\n",
       "    </tr>\n",
       "    <tr>\n",
       "      <td>25346</td>\n",
       "      <td>False</td>\n",
       "      <td>False</td>\n",
       "      <td>False</td>\n",
       "      <td>False</td>\n",
       "      <td>False</td>\n",
       "      <td>False</td>\n",
       "    </tr>\n",
       "    <tr>\n",
       "      <td>25347</td>\n",
       "      <td>False</td>\n",
       "      <td>False</td>\n",
       "      <td>False</td>\n",
       "      <td>False</td>\n",
       "      <td>False</td>\n",
       "      <td>False</td>\n",
       "    </tr>\n",
       "    <tr>\n",
       "      <td>25348</td>\n",
       "      <td>False</td>\n",
       "      <td>False</td>\n",
       "      <td>False</td>\n",
       "      <td>False</td>\n",
       "      <td>False</td>\n",
       "      <td>False</td>\n",
       "    </tr>\n",
       "    <tr>\n",
       "      <td>25349</td>\n",
       "      <td>False</td>\n",
       "      <td>False</td>\n",
       "      <td>False</td>\n",
       "      <td>False</td>\n",
       "      <td>False</td>\n",
       "      <td>False</td>\n",
       "    </tr>\n",
       "    <tr>\n",
       "      <td>25350</td>\n",
       "      <td>False</td>\n",
       "      <td>False</td>\n",
       "      <td>False</td>\n",
       "      <td>False</td>\n",
       "      <td>False</td>\n",
       "      <td>False</td>\n",
       "    </tr>\n",
       "  </tbody>\n",
       "</table>\n",
       "<p>23212 rows × 6 columns</p>\n",
       "</div>"
      ],
      "text/plain": [
       "          id  address  area_name  price  latitude  longitude\n",
       "0      False    False      False  False     False      False\n",
       "1      False    False      False  False     False      False\n",
       "2      False    False      False  False     False      False\n",
       "3      False    False      False  False     False      False\n",
       "4      False    False      False  False     False      False\n",
       "...      ...      ...        ...    ...       ...        ...\n",
       "25346  False    False      False  False     False      False\n",
       "25347  False    False      False  False     False      False\n",
       "25348  False    False      False  False     False      False\n",
       "25349  False    False      False  False     False      False\n",
       "25350  False    False      False  False     False      False\n",
       "\n",
       "[23212 rows x 6 columns]"
      ]
     },
     "execution_count": 62,
     "metadata": {},
     "output_type": "execute_result"
    }
   ],
   "source": [
    "# Using heat map to identify missing data\n",
    "missing_values = houses.isnull()\n",
    "missing_values"
   ]
  },
  {
   "cell_type": "code",
   "execution_count": 64,
   "metadata": {},
   "outputs": [
    {
     "data": {
      "text/plain": [
       "<matplotlib.axes._subplots.AxesSubplot at 0x7f3b3af3f210>"
      ]
     },
     "execution_count": 64,
     "metadata": {},
     "output_type": "execute_result"
    },
    {
     "data": {
      "image/png": "[encoded data removed]",
      "text/plain": [
       "<Figure size 432x288 with 1 Axes>"
      ]
     },
     "metadata": {
      "needs_background": "light"
     },
     "output_type": "display_data"
    }
   ],
   "source": [
    "# data -> argument refers to the data to creat heatmap\n",
    "# yticklabels -> argument avoids plotting the column names\n",
    "# cbar -> argument identifies if a colorbar is required or not\n",
    "# cmap -> argument identifies the color of the heatmap\n",
    "sns.heatmap(data = missing_values, yticklabels=False, cbar=False, cmap='viridis')"
   ]
  },
  {
   "cell_type": "code",
   "execution_count": 65,
   "metadata": {},
   "outputs": [
    {
     "data": {
      "text/html": [
       "<div>\n",
       "<style scoped>\n",
       "    .dataframe tbody tr th:only-of-type {\n",
       "        vertical-align: middle;\n",
       "    }\n",
       "\n",
       "    .dataframe tbody tr th {\n",
       "        vertical-align: top;\n",
       "    }\n",
       "\n",
       "    .dataframe thead th {\n",
       "        text-align: right;\n",
       "    }\n",
       "</style>\n",
       "<table border=\"1\" class=\"dataframe\">\n",
       "  <thead>\n",
       "    <tr style=\"text-align: right;\">\n",
       "      <th></th>\n",
       "      <th>id</th>\n",
       "      <th>address</th>\n",
       "      <th>area_name</th>\n",
       "      <th>price</th>\n",
       "      <th>latitude</th>\n",
       "      <th>longitude</th>\n",
       "    </tr>\n",
       "  </thead>\n",
       "  <tbody>\n",
       "    <tr>\n",
       "      <td>209</td>\n",
       "      <td>269</td>\n",
       "      <td>7393 Wellington Rd 51 . Ariss, ON</td>\n",
       "      <td>NaN</td>\n",
       "      <td>699000</td>\n",
       "      <td>43.596718</td>\n",
       "      <td>-80.340660</td>\n",
       "    </tr>\n",
       "    <tr>\n",
       "      <td>1022</td>\n",
       "      <td>3004</td>\n",
       "      <td>120 WOODBURN Road Glanbrook, ON</td>\n",
       "      <td>NaN</td>\n",
       "      <td>329900</td>\n",
       "      <td>-999.000000</td>\n",
       "      <td>-999.000000</td>\n",
       "    </tr>\n",
       "    <tr>\n",
       "      <td>1132</td>\n",
       "      <td>4089</td>\n",
       "      <td>457289 CONCESSION 8  S Sydenham Twp, ON</td>\n",
       "      <td>NaN</td>\n",
       "      <td>729900</td>\n",
       "      <td>-999.000000</td>\n",
       "      <td>-999.000000</td>\n",
       "    </tr>\n",
       "    <tr>\n",
       "      <td>1186</td>\n",
       "      <td>4585</td>\n",
       "      <td>152 MARR Drive Elora, ON</td>\n",
       "      <td>NaN</td>\n",
       "      <td>399900</td>\n",
       "      <td>43.693314</td>\n",
       "      <td>-80.437492</td>\n",
       "    </tr>\n",
       "    <tr>\n",
       "      <td>1192</td>\n",
       "      <td>4770</td>\n",
       "      <td>3058 Bruce Road 20 Other Bruce Township, ON</td>\n",
       "      <td>NaN</td>\n",
       "      <td>189900</td>\n",
       "      <td>-999.000000</td>\n",
       "      <td>-999.000000</td>\n",
       "    </tr>\n",
       "    <tr>\n",
       "      <td>...</td>\n",
       "      <td>...</td>\n",
       "      <td>...</td>\n",
       "      <td>...</td>\n",
       "      <td>...</td>\n",
       "      <td>...</td>\n",
       "      <td>...</td>\n",
       "    </tr>\n",
       "    <tr>\n",
       "      <td>24558</td>\n",
       "      <td>120763</td>\n",
       "      <td>823 English Settlement Rd Murray Ward, ON</td>\n",
       "      <td>NaN</td>\n",
       "      <td>699000</td>\n",
       "      <td>-999.000000</td>\n",
       "      <td>-999.000000</td>\n",
       "    </tr>\n",
       "    <tr>\n",
       "      <td>24586</td>\n",
       "      <td>121479</td>\n",
       "      <td>3606 CEDAR GROVE ROAD Prescott, ON</td>\n",
       "      <td>NaN</td>\n",
       "      <td>399999</td>\n",
       "      <td>44.743317</td>\n",
       "      <td>-75.517426</td>\n",
       "    </tr>\n",
       "    <tr>\n",
       "      <td>25095</td>\n",
       "      <td>124645</td>\n",
       "      <td>7256 Wellington Road 124 Road Guelph, ON</td>\n",
       "      <td>NaN</td>\n",
       "      <td>499900</td>\n",
       "      <td>43.494778</td>\n",
       "      <td>-80.285805</td>\n",
       "    </tr>\n",
       "    <tr>\n",
       "      <td>25099</td>\n",
       "      <td>124649</td>\n",
       "      <td>7985 Tait`s Beach Rd Hamilton Township, ON</td>\n",
       "      <td>NaN</td>\n",
       "      <td>599000</td>\n",
       "      <td>44.109016</td>\n",
       "      <td>-78.273743</td>\n",
       "    </tr>\n",
       "    <tr>\n",
       "      <td>25233</td>\n",
       "      <td>124791</td>\n",
       "      <td>0 Cornish Hollow Rd Hamilton Township, ON</td>\n",
       "      <td>NaN</td>\n",
       "      <td>399500</td>\n",
       "      <td>44.028290</td>\n",
       "      <td>-78.198029</td>\n",
       "    </tr>\n",
       "  </tbody>\n",
       "</table>\n",
       "<p>415 rows × 6 columns</p>\n",
       "</div>"
      ],
      "text/plain": [
       "           id                                      address area_name   price  \\\n",
       "209       269            7393 Wellington Rd 51 . Ariss, ON       NaN  699000   \n",
       "1022     3004              120 WOODBURN Road Glanbrook, ON       NaN  329900   \n",
       "1132     4089      457289 CONCESSION 8  S Sydenham Twp, ON       NaN  729900   \n",
       "1186     4585                     152 MARR Drive Elora, ON       NaN  399900   \n",
       "1192     4770  3058 Bruce Road 20 Other Bruce Township, ON       NaN  189900   \n",
       "...       ...                                          ...       ...     ...   \n",
       "24558  120763    823 English Settlement Rd Murray Ward, ON       NaN  699000   \n",
       "24586  121479           3606 CEDAR GROVE ROAD Prescott, ON       NaN  399999   \n",
       "25095  124645     7256 Wellington Road 124 Road Guelph, ON       NaN  499900   \n",
       "25099  124649   7985 Tait`s Beach Rd Hamilton Township, ON       NaN  599000   \n",
       "25233  124791    0 Cornish Hollow Rd Hamilton Township, ON       NaN  399500   \n",
       "\n",
       "         latitude   longitude  \n",
       "209     43.596718  -80.340660  \n",
       "1022  -999.000000 -999.000000  \n",
       "1132  -999.000000 -999.000000  \n",
       "1186    43.693314  -80.437492  \n",
       "1192  -999.000000 -999.000000  \n",
       "...           ...         ...  \n",
       "24558 -999.000000 -999.000000  \n",
       "24586   44.743317  -75.517426  \n",
       "25095   43.494778  -80.285805  \n",
       "25099   44.109016  -78.273743  \n",
       "25233   44.028290  -78.198029  \n",
       "\n",
       "[415 rows x 6 columns]"
      ]
     },
     "execution_count": 65,
     "metadata": {},
     "output_type": "execute_result"
    }
   ],
   "source": [
    "# List all records that don't have area_name\n",
    "houses[houses.area_name.isnull()]"
   ]
  },
  {
   "cell_type": "code",
   "execution_count": 66,
   "metadata": {},
   "outputs": [
    {
     "data": {
      "text/plain": [
       "(22797, 6)"
      ]
     },
     "execution_count": 66,
     "metadata": {},
     "output_type": "execute_result"
    }
   ],
   "source": [
    "# Test the the result when dropping all the null records\n",
    "houses.dropna(how='any').shape"
   ]
  },
  {
   "cell_type": "code",
   "execution_count": 67,
   "metadata": {},
   "outputs": [],
   "source": [
    "# Fill records that don't have area name with the default value of UNDEFINED\n",
    "houses['area_name'].fillna(value='UNDEFINED',inplace=True)"
   ]
  },
  {
   "cell_type": "code",
   "execution_count": 68,
   "metadata": {},
   "outputs": [
    {
     "data": {
      "text/plain": [
       "209      UNDEFINED\n",
       "1022     UNDEFINED\n",
       "1132     UNDEFINED\n",
       "1186     UNDEFINED\n",
       "1192     UNDEFINED\n",
       "           ...    \n",
       "24558    UNDEFINED\n",
       "24586    UNDEFINED\n",
       "25095    UNDEFINED\n",
       "25099    UNDEFINED\n",
       "25233    UNDEFINED\n",
       "Name: area_name, Length: 415, dtype: object"
      ]
     },
     "execution_count": 68,
     "metadata": {},
     "output_type": "execute_result"
    }
   ],
   "source": [
    "# Check if the above command works\n",
    "houses[houses['area_name']=='UNDEFINED'].area_name"
   ]
  },
  {
   "cell_type": "code",
   "execution_count": 69,
   "metadata": {},
   "outputs": [
    {
     "data": {
      "text/plain": [
       "0"
      ]
     },
     "execution_count": 69,
     "metadata": {},
     "output_type": "execute_result"
    }
   ],
   "source": [
    "# Deal with duplicated rows\n",
    "houses.duplicated().sum()"
   ]
  },
  {
   "cell_type": "code",
   "execution_count": 70,
   "metadata": {},
   "outputs": [
    {
     "data": {
      "text/html": [
       "<div>\n",
       "<style scoped>\n",
       "    .dataframe tbody tr th:only-of-type {\n",
       "        vertical-align: middle;\n",
       "    }\n",
       "\n",
       "    .dataframe tbody tr th {\n",
       "        vertical-align: top;\n",
       "    }\n",
       "\n",
       "    .dataframe thead th {\n",
       "        text-align: right;\n",
       "    }\n",
       "</style>\n",
       "<table border=\"1\" class=\"dataframe\">\n",
       "  <thead>\n",
       "    <tr style=\"text-align: right;\">\n",
       "      <th></th>\n",
       "      <th>id</th>\n",
       "      <th>address</th>\n",
       "      <th>area_name</th>\n",
       "      <th>price</th>\n",
       "      <th>latitude</th>\n",
       "      <th>longitude</th>\n",
       "    </tr>\n",
       "  </thead>\n",
       "  <tbody>\n",
       "    <tr>\n",
       "      <td>min</td>\n",
       "      <td>6</td>\n",
       "      <td># 2407 - 75 ST NICHOLAS ST Toronto, ON</td>\n",
       "      <td>Downtown</td>\n",
       "      <td>88000</td>\n",
       "      <td>43.637062</td>\n",
       "      <td>-79.410561</td>\n",
       "    </tr>\n",
       "    <tr>\n",
       "      <td>max</td>\n",
       "      <td>109461</td>\n",
       "      <td>92 KING ST E Toronto, ON</td>\n",
       "      <td>Downtown</td>\n",
       "      <td>14500000</td>\n",
       "      <td>43.670547</td>\n",
       "      <td>-79.353928</td>\n",
       "    </tr>\n",
       "  </tbody>\n",
       "</table>\n",
       "</div>"
      ],
      "text/plain": [
       "         id                                 address area_name     price  \\\n",
       "min       6  # 2407 - 75 ST NICHOLAS ST Toronto, ON  Downtown     88000   \n",
       "max  109461                92 KING ST E Toronto, ON  Downtown  14500000   \n",
       "\n",
       "      latitude  longitude  \n",
       "min  43.637062 -79.410561  \n",
       "max  43.670547 -79.353928  "
      ]
     },
     "execution_count": 70,
     "metadata": {},
     "output_type": "execute_result"
    }
   ],
   "source": [
    "# Find the house with the lowest price and the house with the highest price\n",
    "# in downtown area\n",
    "houses[houses.area_name=='Downtown'].agg(['min','max'])"
   ]
  },
  {
   "cell_type": "code",
   "execution_count": 71,
   "metadata": {},
   "outputs": [
    {
     "name": "stdout",
     "output_type": "stream",
     "text": [
      "<class 'pandas.core.frame.DataFrame'>\n",
      "Int64Index: 23212 entries, 0 to 25350\n",
      "Data columns (total 6 columns):\n",
      "id           23212 non-null int64\n",
      "address      23212 non-null object\n",
      "area_name    23212 non-null object\n",
      "price        23212 non-null int64\n",
      "latitude     23212 non-null float64\n",
      "longitude    23212 non-null float64\n",
      "dtypes: float64(2), int64(2), object(2)\n",
      "memory usage: 5.0 MB\n"
     ]
    }
   ],
   "source": [
    "# Check memory usage\n",
    "houses.info(memory_usage='deep')"
   ]
  },
  {
   "cell_type": "code",
   "execution_count": 76,
   "metadata": {},
   "outputs": [
    {
     "data": {
      "text/html": [
       "<div>\n",
       "<style scoped>\n",
       "    .dataframe tbody tr th:only-of-type {\n",
       "        vertical-align: middle;\n",
       "    }\n",
       "\n",
       "    .dataframe tbody tr th {\n",
       "        vertical-align: top;\n",
       "    }\n",
       "\n",
       "    .dataframe thead th {\n",
       "        text-align: right;\n",
       "    }\n",
       "</style>\n",
       "<table border=\"1\" class=\"dataframe\">\n",
       "  <thead>\n",
       "    <tr style=\"text-align: right;\">\n",
       "      <th></th>\n",
       "      <th>id</th>\n",
       "      <th>address</th>\n",
       "      <th>area_name</th>\n",
       "      <th>price</th>\n",
       "      <th>latitude</th>\n",
       "      <th>longitude</th>\n",
       "      <th>property_type</th>\n",
       "    </tr>\n",
       "  </thead>\n",
       "  <tbody>\n",
       "    <tr>\n",
       "      <td>0</td>\n",
       "      <td>0</td>\n",
       "      <td>86 Waterford Dr Toronto, ON</td>\n",
       "      <td>Richview</td>\n",
       "      <td>999888</td>\n",
       "      <td>43.679882</td>\n",
       "      <td>-79.544266</td>\n",
       "      <td>NaN</td>\n",
       "    </tr>\n",
       "    <tr>\n",
       "      <td>1</td>\n",
       "      <td>1</td>\n",
       "      <td>#80 - 100 BEDDOE DR Hamilton, ON</td>\n",
       "      <td>Chedoke Park B</td>\n",
       "      <td>399900</td>\n",
       "      <td>43.250000</td>\n",
       "      <td>-79.904396</td>\n",
       "      <td>#80 - 100 BEDDOE DR Hamilton, ON</td>\n",
       "    </tr>\n",
       "    <tr>\n",
       "      <td>2</td>\n",
       "      <td>2</td>\n",
       "      <td>213 Bowman Street Hamilton, ON</td>\n",
       "      <td>Ainslie Wood East</td>\n",
       "      <td>479000</td>\n",
       "      <td>43.251690</td>\n",
       "      <td>-79.919357</td>\n",
       "      <td>NaN</td>\n",
       "    </tr>\n",
       "    <tr>\n",
       "      <td>3</td>\n",
       "      <td>3</td>\n",
       "      <td>102 NEIL Avenue Hamilton, ON</td>\n",
       "      <td>Greenford</td>\n",
       "      <td>285900</td>\n",
       "      <td>43.227161</td>\n",
       "      <td>-79.767403</td>\n",
       "      <td>NaN</td>\n",
       "    </tr>\n",
       "    <tr>\n",
       "      <td>4</td>\n",
       "      <td>6</td>\n",
       "      <td>#1409 - 230 King St Toronto, ON</td>\n",
       "      <td>Downtown</td>\n",
       "      <td>362000</td>\n",
       "      <td>43.651478</td>\n",
       "      <td>-79.368118</td>\n",
       "      <td>#1409 - 230 King St Toronto, ON</td>\n",
       "    </tr>\n",
       "  </tbody>\n",
       "</table>\n",
       "</div>"
      ],
      "text/plain": [
       "   id                           address          area_name   price   latitude  \\\n",
       "0   0       86 Waterford Dr Toronto, ON           Richview  999888  43.679882   \n",
       "1   1  #80 - 100 BEDDOE DR Hamilton, ON     Chedoke Park B  399900  43.250000   \n",
       "2   2    213 Bowman Street Hamilton, ON  Ainslie Wood East  479000  43.251690   \n",
       "3   3      102 NEIL Avenue Hamilton, ON          Greenford  285900  43.227161   \n",
       "4   6   #1409 - 230 King St Toronto, ON           Downtown  362000  43.651478   \n",
       "\n",
       "   longitude                     property_type  \n",
       "0 -79.544266                               NaN  \n",
       "1 -79.904396  #80 - 100 BEDDOE DR Hamilton, ON  \n",
       "2 -79.919357                               NaN  \n",
       "3 -79.767403                               NaN  \n",
       "4 -79.368118   #1409 - 230 King St Toronto, ON  "
      ]
     },
     "execution_count": 76,
     "metadata": {},
     "output_type": "execute_result"
    }
   ],
   "source": [
    "## Add another column named property_type to dataset\n",
    "## Filter out the Condo/Apartment property\n",
    "houses['property_type'] = houses[houses.address.str.contains('#')].address\n",
    "houses.head()"
   ]
  },
  {
   "cell_type": "code",
   "execution_count": 77,
   "metadata": {},
   "outputs": [
    {
     "data": {
      "text/html": [
       "<div>\n",
       "<style scoped>\n",
       "    .dataframe tbody tr th:only-of-type {\n",
       "        vertical-align: middle;\n",
       "    }\n",
       "\n",
       "    .dataframe tbody tr th {\n",
       "        vertical-align: top;\n",
       "    }\n",
       "\n",
       "    .dataframe thead th {\n",
       "        text-align: right;\n",
       "    }\n",
       "</style>\n",
       "<table border=\"1\" class=\"dataframe\">\n",
       "  <thead>\n",
       "    <tr style=\"text-align: right;\">\n",
       "      <th></th>\n",
       "      <th>id</th>\n",
       "      <th>address</th>\n",
       "      <th>area_name</th>\n",
       "      <th>price</th>\n",
       "      <th>latitude</th>\n",
       "      <th>longitude</th>\n",
       "      <th>property_type</th>\n",
       "    </tr>\n",
       "  </thead>\n",
       "  <tbody>\n",
       "    <tr>\n",
       "      <td>0</td>\n",
       "      <td>0</td>\n",
       "      <td>86 Waterford Dr Toronto, ON</td>\n",
       "      <td>Richview</td>\n",
       "      <td>999888</td>\n",
       "      <td>43.679882</td>\n",
       "      <td>-79.544266</td>\n",
       "      <td>House</td>\n",
       "    </tr>\n",
       "    <tr>\n",
       "      <td>1</td>\n",
       "      <td>1</td>\n",
       "      <td>#80 - 100 BEDDOE DR Hamilton, ON</td>\n",
       "      <td>Chedoke Park B</td>\n",
       "      <td>399900</td>\n",
       "      <td>43.250000</td>\n",
       "      <td>-79.904396</td>\n",
       "      <td>#80 - 100 BEDDOE DR Hamilton, ON</td>\n",
       "    </tr>\n",
       "    <tr>\n",
       "      <td>2</td>\n",
       "      <td>2</td>\n",
       "      <td>213 Bowman Street Hamilton, ON</td>\n",
       "      <td>Ainslie Wood East</td>\n",
       "      <td>479000</td>\n",
       "      <td>43.251690</td>\n",
       "      <td>-79.919357</td>\n",
       "      <td>House</td>\n",
       "    </tr>\n",
       "    <tr>\n",
       "      <td>3</td>\n",
       "      <td>3</td>\n",
       "      <td>102 NEIL Avenue Hamilton, ON</td>\n",
       "      <td>Greenford</td>\n",
       "      <td>285900</td>\n",
       "      <td>43.227161</td>\n",
       "      <td>-79.767403</td>\n",
       "      <td>House</td>\n",
       "    </tr>\n",
       "    <tr>\n",
       "      <td>4</td>\n",
       "      <td>6</td>\n",
       "      <td>#1409 - 230 King St Toronto, ON</td>\n",
       "      <td>Downtown</td>\n",
       "      <td>362000</td>\n",
       "      <td>43.651478</td>\n",
       "      <td>-79.368118</td>\n",
       "      <td>#1409 - 230 King St Toronto, ON</td>\n",
       "    </tr>\n",
       "    <tr>\n",
       "      <td>5</td>\n",
       "      <td>7</td>\n",
       "      <td>254A Monarch Park Ave Toronto, ON</td>\n",
       "      <td>Old East York</td>\n",
       "      <td>1488000</td>\n",
       "      <td>43.686375</td>\n",
       "      <td>-79.328918</td>\n",
       "      <td>House</td>\n",
       "    </tr>\n",
       "    <tr>\n",
       "      <td>7</td>\n",
       "      <td>9</td>\n",
       "      <td>11 REBECCA Street Hamilton, ON</td>\n",
       "      <td>Central Hamilton</td>\n",
       "      <td>254900</td>\n",
       "      <td>43.258541</td>\n",
       "      <td>-79.867615</td>\n",
       "      <td>House</td>\n",
       "    </tr>\n",
       "    <tr>\n",
       "      <td>8</td>\n",
       "      <td>10</td>\n",
       "      <td>617 BRIGADOON Drive Hamilton, ON</td>\n",
       "      <td>Gourley</td>\n",
       "      <td>364900</td>\n",
       "      <td>43.216557</td>\n",
       "      <td>-79.904991</td>\n",
       "      <td>House</td>\n",
       "    </tr>\n",
       "    <tr>\n",
       "      <td>9</td>\n",
       "      <td>12</td>\n",
       "      <td>51 - 255 MOUNT ALBION Road Hamilton, ON</td>\n",
       "      <td>Red Hill</td>\n",
       "      <td>304900</td>\n",
       "      <td>43.215706</td>\n",
       "      <td>-79.794189</td>\n",
       "      <td>House</td>\n",
       "    </tr>\n",
       "    <tr>\n",
       "      <td>10</td>\n",
       "      <td>13</td>\n",
       "      <td>1170 LAMBTON Drive Oakville, ON</td>\n",
       "      <td>Clearview</td>\n",
       "      <td>1289000</td>\n",
       "      <td>43.495579</td>\n",
       "      <td>-79.658272</td>\n",
       "      <td>House</td>\n",
       "    </tr>\n",
       "  </tbody>\n",
       "</table>\n",
       "</div>"
      ],
      "text/plain": [
       "    id                                  address          area_name    price  \\\n",
       "0    0              86 Waterford Dr Toronto, ON           Richview   999888   \n",
       "1    1         #80 - 100 BEDDOE DR Hamilton, ON     Chedoke Park B   399900   \n",
       "2    2           213 Bowman Street Hamilton, ON  Ainslie Wood East   479000   \n",
       "3    3             102 NEIL Avenue Hamilton, ON          Greenford   285900   \n",
       "4    6          #1409 - 230 King St Toronto, ON           Downtown   362000   \n",
       "5    7        254A Monarch Park Ave Toronto, ON      Old East York  1488000   \n",
       "7    9           11 REBECCA Street Hamilton, ON   Central Hamilton   254900   \n",
       "8   10         617 BRIGADOON Drive Hamilton, ON            Gourley   364900   \n",
       "9   12  51 - 255 MOUNT ALBION Road Hamilton, ON           Red Hill   304900   \n",
       "10  13          1170 LAMBTON Drive Oakville, ON          Clearview  1289000   \n",
       "\n",
       "     latitude  longitude                     property_type  \n",
       "0   43.679882 -79.544266                             House  \n",
       "1   43.250000 -79.904396  #80 - 100 BEDDOE DR Hamilton, ON  \n",
       "2   43.251690 -79.919357                             House  \n",
       "3   43.227161 -79.767403                             House  \n",
       "4   43.651478 -79.368118   #1409 - 230 King St Toronto, ON  \n",
       "5   43.686375 -79.328918                             House  \n",
       "7   43.258541 -79.867615                             House  \n",
       "8   43.216557 -79.904991                             House  \n",
       "9   43.215706 -79.794189                             House  \n",
       "10  43.495579 -79.658272                             House  "
      ]
     },
     "execution_count": 77,
     "metadata": {},
     "output_type": "execute_result"
    }
   ],
   "source": [
    "# Fill the NaN with the value of House\n",
    "houses.fillna('House',inplace=True)\n",
    "houses.head(10)"
   ]
  },
  {
   "cell_type": "code",
   "execution_count": 85,
   "metadata": {},
   "outputs": [
    {
     "name": "stdout",
     "output_type": "stream",
     "text": [
      "<class 'pandas.core.frame.DataFrame'>\n",
      "Int64Index: 23212 entries, 0 to 25350\n",
      "Data columns (total 7 columns):\n",
      "id               23212 non-null int64\n",
      "address          23212 non-null object\n",
      "area_name        23212 non-null object\n",
      "price            23212 non-null int64\n",
      "latitude         23212 non-null float64\n",
      "longitude        23212 non-null float64\n",
      "property_type    23212 non-null object\n",
      "dtypes: float64(2), int64(2), object(3)\n",
      "memory usage: 2.0+ MB\n"
     ]
    }
   ],
   "source": [
    "houses.info()"
   ]
  },
  {
   "cell_type": "code",
   "execution_count": 78,
   "metadata": {},
   "outputs": [],
   "source": [
    "# Assign those rows that don't have the property_type of House the value Condo/Apartment\n",
    "houses.loc[houses['property_type'] != 'House', 'property_type'] = \"Condo/Apartment\""
   ]
  },
  {
   "cell_type": "code",
   "execution_count": 79,
   "metadata": {},
   "outputs": [
    {
     "data": {
      "text/html": [
       "<div>\n",
       "<style scoped>\n",
       "    .dataframe tbody tr th:only-of-type {\n",
       "        vertical-align: middle;\n",
       "    }\n",
       "\n",
       "    .dataframe tbody tr th {\n",
       "        vertical-align: top;\n",
       "    }\n",
       "\n",
       "    .dataframe thead th {\n",
       "        text-align: right;\n",
       "    }\n",
       "</style>\n",
       "<table border=\"1\" class=\"dataframe\">\n",
       "  <thead>\n",
       "    <tr style=\"text-align: right;\">\n",
       "      <th></th>\n",
       "      <th>id</th>\n",
       "      <th>address</th>\n",
       "      <th>area_name</th>\n",
       "      <th>price</th>\n",
       "      <th>latitude</th>\n",
       "      <th>longitude</th>\n",
       "      <th>property_type</th>\n",
       "    </tr>\n",
       "  </thead>\n",
       "  <tbody>\n",
       "    <tr>\n",
       "      <td>0</td>\n",
       "      <td>0</td>\n",
       "      <td>86 Waterford Dr Toronto, ON</td>\n",
       "      <td>Richview</td>\n",
       "      <td>999888</td>\n",
       "      <td>43.679882</td>\n",
       "      <td>-79.544266</td>\n",
       "      <td>House</td>\n",
       "    </tr>\n",
       "    <tr>\n",
       "      <td>1</td>\n",
       "      <td>1</td>\n",
       "      <td>#80 - 100 BEDDOE DR Hamilton, ON</td>\n",
       "      <td>Chedoke Park B</td>\n",
       "      <td>399900</td>\n",
       "      <td>43.250000</td>\n",
       "      <td>-79.904396</td>\n",
       "      <td>Condo/Apartment</td>\n",
       "    </tr>\n",
       "    <tr>\n",
       "      <td>2</td>\n",
       "      <td>2</td>\n",
       "      <td>213 Bowman Street Hamilton, ON</td>\n",
       "      <td>Ainslie Wood East</td>\n",
       "      <td>479000</td>\n",
       "      <td>43.251690</td>\n",
       "      <td>-79.919357</td>\n",
       "      <td>House</td>\n",
       "    </tr>\n",
       "    <tr>\n",
       "      <td>3</td>\n",
       "      <td>3</td>\n",
       "      <td>102 NEIL Avenue Hamilton, ON</td>\n",
       "      <td>Greenford</td>\n",
       "      <td>285900</td>\n",
       "      <td>43.227161</td>\n",
       "      <td>-79.767403</td>\n",
       "      <td>House</td>\n",
       "    </tr>\n",
       "    <tr>\n",
       "      <td>4</td>\n",
       "      <td>6</td>\n",
       "      <td>#1409 - 230 King St Toronto, ON</td>\n",
       "      <td>Downtown</td>\n",
       "      <td>362000</td>\n",
       "      <td>43.651478</td>\n",
       "      <td>-79.368118</td>\n",
       "      <td>Condo/Apartment</td>\n",
       "    </tr>\n",
       "    <tr>\n",
       "      <td>5</td>\n",
       "      <td>7</td>\n",
       "      <td>254A Monarch Park Ave Toronto, ON</td>\n",
       "      <td>Old East York</td>\n",
       "      <td>1488000</td>\n",
       "      <td>43.686375</td>\n",
       "      <td>-79.328918</td>\n",
       "      <td>House</td>\n",
       "    </tr>\n",
       "    <tr>\n",
       "      <td>7</td>\n",
       "      <td>9</td>\n",
       "      <td>11 REBECCA Street Hamilton, ON</td>\n",
       "      <td>Central Hamilton</td>\n",
       "      <td>254900</td>\n",
       "      <td>43.258541</td>\n",
       "      <td>-79.867615</td>\n",
       "      <td>House</td>\n",
       "    </tr>\n",
       "    <tr>\n",
       "      <td>8</td>\n",
       "      <td>10</td>\n",
       "      <td>617 BRIGADOON Drive Hamilton, ON</td>\n",
       "      <td>Gourley</td>\n",
       "      <td>364900</td>\n",
       "      <td>43.216557</td>\n",
       "      <td>-79.904991</td>\n",
       "      <td>House</td>\n",
       "    </tr>\n",
       "    <tr>\n",
       "      <td>9</td>\n",
       "      <td>12</td>\n",
       "      <td>51 - 255 MOUNT ALBION Road Hamilton, ON</td>\n",
       "      <td>Red Hill</td>\n",
       "      <td>304900</td>\n",
       "      <td>43.215706</td>\n",
       "      <td>-79.794189</td>\n",
       "      <td>House</td>\n",
       "    </tr>\n",
       "    <tr>\n",
       "      <td>10</td>\n",
       "      <td>13</td>\n",
       "      <td>1170 LAMBTON Drive Oakville, ON</td>\n",
       "      <td>Clearview</td>\n",
       "      <td>1289000</td>\n",
       "      <td>43.495579</td>\n",
       "      <td>-79.658272</td>\n",
       "      <td>House</td>\n",
       "    </tr>\n",
       "  </tbody>\n",
       "</table>\n",
       "</div>"
      ],
      "text/plain": [
       "    id                                  address          area_name    price  \\\n",
       "0    0              86 Waterford Dr Toronto, ON           Richview   999888   \n",
       "1    1         #80 - 100 BEDDOE DR Hamilton, ON     Chedoke Park B   399900   \n",
       "2    2           213 Bowman Street Hamilton, ON  Ainslie Wood East   479000   \n",
       "3    3             102 NEIL Avenue Hamilton, ON          Greenford   285900   \n",
       "4    6          #1409 - 230 King St Toronto, ON           Downtown   362000   \n",
       "5    7        254A Monarch Park Ave Toronto, ON      Old East York  1488000   \n",
       "7    9           11 REBECCA Street Hamilton, ON   Central Hamilton   254900   \n",
       "8   10         617 BRIGADOON Drive Hamilton, ON            Gourley   364900   \n",
       "9   12  51 - 255 MOUNT ALBION Road Hamilton, ON           Red Hill   304900   \n",
       "10  13          1170 LAMBTON Drive Oakville, ON          Clearview  1289000   \n",
       "\n",
       "     latitude  longitude    property_type  \n",
       "0   43.679882 -79.544266            House  \n",
       "1   43.250000 -79.904396  Condo/Apartment  \n",
       "2   43.251690 -79.919357            House  \n",
       "3   43.227161 -79.767403            House  \n",
       "4   43.651478 -79.368118  Condo/Apartment  \n",
       "5   43.686375 -79.328918            House  \n",
       "7   43.258541 -79.867615            House  \n",
       "8   43.216557 -79.904991            House  \n",
       "9   43.215706 -79.794189            House  \n",
       "10  43.495579 -79.658272            House  "
      ]
     },
     "execution_count": 79,
     "metadata": {},
     "output_type": "execute_result"
    }
   ],
   "source": [
    "houses.head(10)"
   ]
  },
  {
   "cell_type": "code",
   "execution_count": 80,
   "metadata": {},
   "outputs": [
    {
     "data": {
      "text/html": [
       "<div>\n",
       "<style scoped>\n",
       "    .dataframe tbody tr th:only-of-type {\n",
       "        vertical-align: middle;\n",
       "    }\n",
       "\n",
       "    .dataframe tbody tr th {\n",
       "        vertical-align: top;\n",
       "    }\n",
       "\n",
       "    .dataframe thead th {\n",
       "        text-align: right;\n",
       "    }\n",
       "</style>\n",
       "<table border=\"1\" class=\"dataframe\">\n",
       "  <thead>\n",
       "    <tr style=\"text-align: right;\">\n",
       "      <th></th>\n",
       "      <th>min</th>\n",
       "      <th>max</th>\n",
       "      <th>mean</th>\n",
       "    </tr>\n",
       "    <tr>\n",
       "      <th>property_type</th>\n",
       "      <th></th>\n",
       "      <th></th>\n",
       "      <th></th>\n",
       "    </tr>\n",
       "  </thead>\n",
       "  <tbody>\n",
       "    <tr>\n",
       "      <td>Condo/Apartment</td>\n",
       "      <td>82000</td>\n",
       "      <td>12900000</td>\n",
       "      <td>446924.958405</td>\n",
       "    </tr>\n",
       "    <tr>\n",
       "      <td>House</td>\n",
       "      <td>80500</td>\n",
       "      <td>32500000</td>\n",
       "      <td>662233.531425</td>\n",
       "    </tr>\n",
       "  </tbody>\n",
       "</table>\n",
       "</div>"
      ],
      "text/plain": [
       "                   min       max           mean\n",
       "property_type                                  \n",
       "Condo/Apartment  82000  12900000  446924.958405\n",
       "House            80500  32500000  662233.531425"
      ]
     },
     "execution_count": 80,
     "metadata": {},
     "output_type": "execute_result"
    }
   ],
   "source": [
    "## calculate the price of house group by property type\n",
    "houses.groupby('property_type').price.agg(['min','max','mean'])"
   ]
  },
  {
   "cell_type": "code",
   "execution_count": 81,
   "metadata": {},
   "outputs": [
    {
     "data": {
      "text/plain": [
       "id                                        124922\n",
       "address          lot #4 Regal Place Waterloo, ON\n",
       "area_name                York University Heights\n",
       "price                                   12900000\n",
       "latitude                                  49.738\n",
       "longitude                                -74.709\n",
       "property_type                    Condo/Apartment\n",
       "dtype: object"
      ]
     },
     "execution_count": 81,
     "metadata": {},
     "output_type": "execute_result"
    }
   ],
   "source": [
    "## Find the Condo/Apartment with the min and max price in the dataset\n",
    "houses[houses.property_type=='Condo/Apartment'].max()"
   ]
  },
  {
   "cell_type": "code",
   "execution_count": 82,
   "metadata": {},
   "outputs": [
    {
     "data": {
      "text/plain": [
       "id                                                         1\n",
       "address          # 1 - 4265 THOMAS ALTON BLVD Burlington, ON\n",
       "area_name                                          Agincourt\n",
       "price                                                  82000\n",
       "latitude                                                -999\n",
       "longitude                                               -999\n",
       "property_type                                Condo/Apartment\n",
       "dtype: object"
      ]
     },
     "execution_count": 82,
     "metadata": {},
     "output_type": "execute_result"
    }
   ],
   "source": [
    "houses[houses.property_type=='Condo/Apartment'].min()"
   ]
  },
  {
   "cell_type": "code",
   "execution_count": 84,
   "metadata": {},
   "outputs": [
    {
     "data": {
      "text/plain": [
       "<matplotlib.axes._subplots.AxesSubplot at 0x7f3b3af9bdd0>"
      ]
     },
     "execution_count": 84,
     "metadata": {},
     "output_type": "execute_result"
    },
    {
     "data": {
      "image/png": "[encoded data removed]",
      "text/plain": [
       "<Figure size 432x288 with 1 Axes>"
      ]
     },
     "metadata": {
      "needs_background": "light"
     },
     "output_type": "display_data"
    }
   ],
   "source": [
    "# Use the countplot() method to identify ratio of who survived vs not\n",
    "sns.countplot(x='property_type',data=houses)"
   ]
  },
  {
   "cell_type": "code",
   "execution_count": 89,
   "metadata": {},
   "outputs": [
    {
     "data": {
      "text/plain": [
       "id                                  124929\n",
       "address          Wigamog Rd Haliburton, ON\n",
       "area_name                           Zurich\n",
       "price                             32500000\n",
       "latitude                            53.851\n",
       "longitude                          1.07452\n",
       "property_type                        House\n",
       "dtype: object"
      ]
     },
     "execution_count": 89,
     "metadata": {},
     "output_type": "execute_result"
    }
   ],
   "source": [
    "## Find the house with the min and max price in the dataset\n",
    "houses[houses.property_type=='House'].max()"
   ]
  },
  {
   "cell_type": "code",
   "execution_count": 90,
   "metadata": {},
   "outputs": [
    {
     "data": {
      "text/plain": [
       "id                   0\n",
       "address             ON\n",
       "area_name        Acton\n",
       "price            80500\n",
       "latitude          -999\n",
       "longitude         -999\n",
       "property_type    House\n",
       "dtype: object"
      ]
     },
     "execution_count": 90,
     "metadata": {},
     "output_type": "execute_result"
    }
   ],
   "source": [
    "houses[houses.property_type=='House'].min()"
   ]
  },
  {
   "cell_type": "code",
   "execution_count": 91,
   "metadata": {},
   "outputs": [
    {
     "data": {
      "text/html": [
       "<div>\n",
       "<style scoped>\n",
       "    .dataframe tbody tr th:only-of-type {\n",
       "        vertical-align: middle;\n",
       "    }\n",
       "\n",
       "    .dataframe tbody tr th {\n",
       "        vertical-align: top;\n",
       "    }\n",
       "\n",
       "    .dataframe thead th {\n",
       "        text-align: right;\n",
       "    }\n",
       "</style>\n",
       "<table border=\"1\" class=\"dataframe\">\n",
       "  <thead>\n",
       "    <tr style=\"text-align: right;\">\n",
       "      <th></th>\n",
       "      <th>id</th>\n",
       "      <th>address</th>\n",
       "      <th>area_name</th>\n",
       "      <th>price</th>\n",
       "      <th>latitude</th>\n",
       "      <th>longitude</th>\n",
       "      <th>property_type</th>\n",
       "    </tr>\n",
       "  </thead>\n",
       "  <tbody>\n",
       "    <tr>\n",
       "      <td>1889</td>\n",
       "      <td>5798</td>\n",
       "      <td>10 HIGH POINT RD Toronto, ON</td>\n",
       "      <td>Bridle Path</td>\n",
       "      <td>26800000</td>\n",
       "      <td>43.735306</td>\n",
       "      <td>-79.372612</td>\n",
       "      <td>House</td>\n",
       "    </tr>\n",
       "    <tr>\n",
       "      <td>21597</td>\n",
       "      <td>79960</td>\n",
       "      <td>16 High Point Rd Toronto, ON</td>\n",
       "      <td>Bridle Path</td>\n",
       "      <td>18800000</td>\n",
       "      <td>43.734344</td>\n",
       "      <td>-79.371315</td>\n",
       "      <td>House</td>\n",
       "    </tr>\n",
       "    <tr>\n",
       "      <td>20994</td>\n",
       "      <td>77248</td>\n",
       "      <td>14 The Bridle Path Toronto, ON</td>\n",
       "      <td>Bridle Path</td>\n",
       "      <td>15300000</td>\n",
       "      <td>43.739182</td>\n",
       "      <td>-79.379913</td>\n",
       "      <td>House</td>\n",
       "    </tr>\n",
       "    <tr>\n",
       "      <td>21720</td>\n",
       "      <td>82766</td>\n",
       "      <td>120 INGLEWOOD DR Toronto, ON</td>\n",
       "      <td>Midtown Toronto</td>\n",
       "      <td>14880000</td>\n",
       "      <td>43.688107</td>\n",
       "      <td>-79.385658</td>\n",
       "      <td>House</td>\n",
       "    </tr>\n",
       "    <tr>\n",
       "      <td>20759</td>\n",
       "      <td>76782</td>\n",
       "      <td>31 Knightswood Rd Toronto, ON</td>\n",
       "      <td>York Mills</td>\n",
       "      <td>14800000</td>\n",
       "      <td>43.739323</td>\n",
       "      <td>-79.391823</td>\n",
       "      <td>House</td>\n",
       "    </tr>\n",
       "    <tr>\n",
       "      <td>...</td>\n",
       "      <td>...</td>\n",
       "      <td>...</td>\n",
       "      <td>...</td>\n",
       "      <td>...</td>\n",
       "      <td>...</td>\n",
       "      <td>...</td>\n",
       "      <td>...</td>\n",
       "    </tr>\n",
       "    <tr>\n",
       "      <td>1721</td>\n",
       "      <td>5630</td>\n",
       "      <td>1174 BLOOR ST W Toronto, ON</td>\n",
       "      <td>Wallace Emerson</td>\n",
       "      <td>84990</td>\n",
       "      <td>43.659683</td>\n",
       "      <td>-79.437279</td>\n",
       "      <td>House</td>\n",
       "    </tr>\n",
       "    <tr>\n",
       "      <td>22580</td>\n",
       "      <td>95270</td>\n",
       "      <td>#Store - 121 OSSINGTON AVE Toronto, ON</td>\n",
       "      <td>Trinity - Bellwoods</td>\n",
       "      <td>84000</td>\n",
       "      <td>43.646778</td>\n",
       "      <td>-79.419640</td>\n",
       "      <td>Condo/Apartment</td>\n",
       "    </tr>\n",
       "    <tr>\n",
       "      <td>1793</td>\n",
       "      <td>5702</td>\n",
       "      <td>#3 - 94 HALSEY AVE Toronto, ON</td>\n",
       "      <td>Woodbine Gardens</td>\n",
       "      <td>82800</td>\n",
       "      <td>43.699581</td>\n",
       "      <td>-79.297829</td>\n",
       "      <td>Condo/Apartment</td>\n",
       "    </tr>\n",
       "    <tr>\n",
       "      <td>20264</td>\n",
       "      <td>74142</td>\n",
       "      <td>615 BLOOR ST W Toronto, ON</td>\n",
       "      <td>Palmerston - Little Italy</td>\n",
       "      <td>82500</td>\n",
       "      <td>43.664452</td>\n",
       "      <td>-79.413788</td>\n",
       "      <td>House</td>\n",
       "    </tr>\n",
       "    <tr>\n",
       "      <td>20288</td>\n",
       "      <td>74166</td>\n",
       "      <td>#11 - 2300 LAWRENCE AVE E Toronto, ON</td>\n",
       "      <td>Dorset Park</td>\n",
       "      <td>82000</td>\n",
       "      <td>43.750603</td>\n",
       "      <td>-79.276802</td>\n",
       "      <td>Condo/Apartment</td>\n",
       "    </tr>\n",
       "  </tbody>\n",
       "</table>\n",
       "<p>4820 rows × 7 columns</p>\n",
       "</div>"
      ],
      "text/plain": [
       "          id                                 address  \\\n",
       "1889    5798            10 HIGH POINT RD Toronto, ON   \n",
       "21597  79960            16 High Point Rd Toronto, ON   \n",
       "20994  77248          14 The Bridle Path Toronto, ON   \n",
       "21720  82766            120 INGLEWOOD DR Toronto, ON   \n",
       "20759  76782           31 Knightswood Rd Toronto, ON   \n",
       "...      ...                                     ...   \n",
       "1721    5630             1174 BLOOR ST W Toronto, ON   \n",
       "22580  95270  #Store - 121 OSSINGTON AVE Toronto, ON   \n",
       "1793    5702          #3 - 94 HALSEY AVE Toronto, ON   \n",
       "20264  74142              615 BLOOR ST W Toronto, ON   \n",
       "20288  74166   #11 - 2300 LAWRENCE AVE E Toronto, ON   \n",
       "\n",
       "                       area_name     price   latitude  longitude  \\\n",
       "1889                 Bridle Path  26800000  43.735306 -79.372612   \n",
       "21597                Bridle Path  18800000  43.734344 -79.371315   \n",
       "20994                Bridle Path  15300000  43.739182 -79.379913   \n",
       "21720            Midtown Toronto  14880000  43.688107 -79.385658   \n",
       "20759                 York Mills  14800000  43.739323 -79.391823   \n",
       "...                          ...       ...        ...        ...   \n",
       "1721             Wallace Emerson     84990  43.659683 -79.437279   \n",
       "22580        Trinity - Bellwoods     84000  43.646778 -79.419640   \n",
       "1793            Woodbine Gardens     82800  43.699581 -79.297829   \n",
       "20264  Palmerston - Little Italy     82500  43.664452 -79.413788   \n",
       "20288                Dorset Park     82000  43.750603 -79.276802   \n",
       "\n",
       "         property_type  \n",
       "1889             House  \n",
       "21597            House  \n",
       "20994            House  \n",
       "21720            House  \n",
       "20759            House  \n",
       "...                ...  \n",
       "1721             House  \n",
       "22580  Condo/Apartment  \n",
       "1793   Condo/Apartment  \n",
       "20264            House  \n",
       "20288  Condo/Apartment  \n",
       "\n",
       "[4820 rows x 7 columns]"
      ]
     },
     "execution_count": 91,
     "metadata": {},
     "output_type": "execute_result"
    }
   ],
   "source": [
    "# List all the properties located in Toronto and sort values in desencding order\n",
    "houses.loc[houses.address.str.contains('Toronto'),].sort_values('price',ascending=False)"
   ]
  },
  {
   "cell_type": "code",
   "execution_count": 92,
   "metadata": {},
   "outputs": [
    {
     "data": {
      "text/plain": [
       "id                 int64\n",
       "address           object\n",
       "area_name         object\n",
       "price              int64\n",
       "latitude         float64\n",
       "longitude        float64\n",
       "property_type     object\n",
       "dtype: object"
      ]
     },
     "execution_count": 92,
     "metadata": {},
     "output_type": "execute_result"
    }
   ],
   "source": [
    "houses.dtypes"
   ]
  },
  {
   "cell_type": "code",
   "execution_count": 93,
   "metadata": {},
   "outputs": [],
   "source": [
    "# Create another columns named city by analyzing the address series\n",
    "test_city = houses.address.str.split(',')[0][0]"
   ]
  },
  {
   "cell_type": "code",
   "execution_count": 94,
   "metadata": {},
   "outputs": [
    {
     "data": {
      "text/plain": [
       "'Toronto'"
      ]
     },
     "execution_count": 94,
     "metadata": {},
     "output_type": "execute_result"
    }
   ],
   "source": [
    "test_city.split(' ')[-1]"
   ]
  },
  {
   "cell_type": "code",
   "execution_count": 95,
   "metadata": {},
   "outputs": [],
   "source": [
    "test_address = houses['address']"
   ]
  },
  {
   "cell_type": "code",
   "execution_count": 96,
   "metadata": {},
   "outputs": [
    {
     "data": {
      "text/plain": [
       "0                         86 Waterford Dr Toronto, ON\n",
       "1                    #80 - 100 BEDDOE DR Hamilton, ON\n",
       "2                      213 Bowman Street Hamilton, ON\n",
       "3                        102 NEIL Avenue Hamilton, ON\n",
       "4                     #1409 - 230 King St Toronto, ON\n",
       "                             ...                     \n",
       "25346         3100 CARLING AVENUE UNIT#416 Ottawa, ON\n",
       "25347                5827 GLADEWOODS PLACE Ottawa, ON\n",
       "25348                6349 DEERMEADOW DRIVE Ottawa, ON\n",
       "25349                       212 ALVIN ROAD Ottawa, ON\n",
       "25350    BARTON Street BARTON Street Stoney Creek, ON\n",
       "Name: address, Length: 23212, dtype: object"
      ]
     },
     "execution_count": 96,
     "metadata": {},
     "output_type": "execute_result"
    }
   ],
   "source": [
    "test_address"
   ]
  },
  {
   "cell_type": "code",
   "execution_count": 97,
   "metadata": {},
   "outputs": [
    {
     "data": {
      "text/plain": [
       "0                         [86 Waterford Dr Toronto,  ON]\n",
       "1                    [#80 - 100 BEDDOE DR Hamilton,  ON]\n",
       "2                      [213 Bowman Street Hamilton,  ON]\n",
       "3                        [102 NEIL Avenue Hamilton,  ON]\n",
       "4                     [#1409 - 230 King St Toronto,  ON]\n",
       "                              ...                       \n",
       "25346         [3100 CARLING AVENUE UNIT#416 Ottawa,  ON]\n",
       "25347                [5827 GLADEWOODS PLACE Ottawa,  ON]\n",
       "25348                [6349 DEERMEADOW DRIVE Ottawa,  ON]\n",
       "25349                       [212 ALVIN ROAD Ottawa,  ON]\n",
       "25350    [BARTON Street BARTON Street Stoney Creek,  ON]\n",
       "Name: address, Length: 23212, dtype: object"
      ]
     },
     "execution_count": 97,
     "metadata": {},
     "output_type": "execute_result"
    }
   ],
   "source": [
    "test_address.str.split(',')"
   ]
  },
  {
   "cell_type": "code",
   "execution_count": 98,
   "metadata": {},
   "outputs": [],
   "source": [
    "test_address = test_address.str.split(',')"
   ]
  },
  {
   "cell_type": "code",
   "execution_count": 99,
   "metadata": {},
   "outputs": [
    {
     "data": {
      "text/plain": [
       "0                         [86 Waterford Dr Toronto,  ON]\n",
       "1                    [#80 - 100 BEDDOE DR Hamilton,  ON]\n",
       "2                      [213 Bowman Street Hamilton,  ON]\n",
       "3                        [102 NEIL Avenue Hamilton,  ON]\n",
       "4                     [#1409 - 230 King St Toronto,  ON]\n",
       "                              ...                       \n",
       "25346         [3100 CARLING AVENUE UNIT#416 Ottawa,  ON]\n",
       "25347                [5827 GLADEWOODS PLACE Ottawa,  ON]\n",
       "25348                [6349 DEERMEADOW DRIVE Ottawa,  ON]\n",
       "25349                       [212 ALVIN ROAD Ottawa,  ON]\n",
       "25350    [BARTON Street BARTON Street Stoney Creek,  ON]\n",
       "Name: address, Length: 23212, dtype: object"
      ]
     },
     "execution_count": 99,
     "metadata": {},
     "output_type": "execute_result"
    }
   ],
   "source": [
    "test_address"
   ]
  },
  {
   "cell_type": "code",
   "execution_count": 100,
   "metadata": {},
   "outputs": [],
   "source": [
    "# Use lambda function to get the first part of the address, which contains street and city\n",
    "street_and_city = test_address.apply(lambda x: x[0])"
   ]
  },
  {
   "cell_type": "code",
   "execution_count": 101,
   "metadata": {},
   "outputs": [],
   "source": [
    "# Use lambda function again to get city from the street and city object\n",
    "city = street_and_city.str.split(' ').apply(lambda x: x[-1])"
   ]
  },
  {
   "cell_type": "code",
   "execution_count": 102,
   "metadata": {},
   "outputs": [
    {
     "data": {
      "text/plain": [
       "0         Toronto\n",
       "1        Hamilton\n",
       "2        Hamilton\n",
       "3        Hamilton\n",
       "4         Toronto\n",
       "           ...   \n",
       "25346      Ottawa\n",
       "25347      Ottawa\n",
       "25348      Ottawa\n",
       "25349      Ottawa\n",
       "25350       Creek\n",
       "Name: address, Length: 23212, dtype: object"
      ]
     },
     "execution_count": 102,
     "metadata": {},
     "output_type": "execute_result"
    }
   ],
   "source": [
    "city"
   ]
  },
  {
   "cell_type": "code",
   "execution_count": 103,
   "metadata": {},
   "outputs": [
    {
     "data": {
      "text/plain": [
       "(23212, 7)"
      ]
     },
     "execution_count": 103,
     "metadata": {},
     "output_type": "execute_result"
    }
   ],
   "source": [
    "houses.shape"
   ]
  },
  {
   "cell_type": "code",
   "execution_count": 104,
   "metadata": {},
   "outputs": [],
   "source": [
    "# Add the city column to the DataFrame and assign the value of city object to that column\n",
    "houses['city'] = city"
   ]
  },
  {
   "cell_type": "code",
   "execution_count": 105,
   "metadata": {},
   "outputs": [
    {
     "data": {
      "text/html": [
       "<div>\n",
       "<style scoped>\n",
       "    .dataframe tbody tr th:only-of-type {\n",
       "        vertical-align: middle;\n",
       "    }\n",
       "\n",
       "    .dataframe tbody tr th {\n",
       "        vertical-align: top;\n",
       "    }\n",
       "\n",
       "    .dataframe thead th {\n",
       "        text-align: right;\n",
       "    }\n",
       "</style>\n",
       "<table border=\"1\" class=\"dataframe\">\n",
       "  <thead>\n",
       "    <tr style=\"text-align: right;\">\n",
       "      <th></th>\n",
       "      <th>id</th>\n",
       "      <th>address</th>\n",
       "      <th>area_name</th>\n",
       "      <th>price</th>\n",
       "      <th>latitude</th>\n",
       "      <th>longitude</th>\n",
       "      <th>property_type</th>\n",
       "      <th>city</th>\n",
       "    </tr>\n",
       "  </thead>\n",
       "  <tbody>\n",
       "    <tr>\n",
       "      <td>0</td>\n",
       "      <td>0</td>\n",
       "      <td>86 Waterford Dr Toronto, ON</td>\n",
       "      <td>Richview</td>\n",
       "      <td>999888</td>\n",
       "      <td>43.679882</td>\n",
       "      <td>-79.544266</td>\n",
       "      <td>House</td>\n",
       "      <td>Toronto</td>\n",
       "    </tr>\n",
       "    <tr>\n",
       "      <td>1</td>\n",
       "      <td>1</td>\n",
       "      <td>#80 - 100 BEDDOE DR Hamilton, ON</td>\n",
       "      <td>Chedoke Park B</td>\n",
       "      <td>399900</td>\n",
       "      <td>43.250000</td>\n",
       "      <td>-79.904396</td>\n",
       "      <td>Condo/Apartment</td>\n",
       "      <td>Hamilton</td>\n",
       "    </tr>\n",
       "    <tr>\n",
       "      <td>2</td>\n",
       "      <td>2</td>\n",
       "      <td>213 Bowman Street Hamilton, ON</td>\n",
       "      <td>Ainslie Wood East</td>\n",
       "      <td>479000</td>\n",
       "      <td>43.251690</td>\n",
       "      <td>-79.919357</td>\n",
       "      <td>House</td>\n",
       "      <td>Hamilton</td>\n",
       "    </tr>\n",
       "    <tr>\n",
       "      <td>3</td>\n",
       "      <td>3</td>\n",
       "      <td>102 NEIL Avenue Hamilton, ON</td>\n",
       "      <td>Greenford</td>\n",
       "      <td>285900</td>\n",
       "      <td>43.227161</td>\n",
       "      <td>-79.767403</td>\n",
       "      <td>House</td>\n",
       "      <td>Hamilton</td>\n",
       "    </tr>\n",
       "    <tr>\n",
       "      <td>4</td>\n",
       "      <td>6</td>\n",
       "      <td>#1409 - 230 King St Toronto, ON</td>\n",
       "      <td>Downtown</td>\n",
       "      <td>362000</td>\n",
       "      <td>43.651478</td>\n",
       "      <td>-79.368118</td>\n",
       "      <td>Condo/Apartment</td>\n",
       "      <td>Toronto</td>\n",
       "    </tr>\n",
       "  </tbody>\n",
       "</table>\n",
       "</div>"
      ],
      "text/plain": [
       "   id                           address          area_name   price   latitude  \\\n",
       "0   0       86 Waterford Dr Toronto, ON           Richview  999888  43.679882   \n",
       "1   1  #80 - 100 BEDDOE DR Hamilton, ON     Chedoke Park B  399900  43.250000   \n",
       "2   2    213 Bowman Street Hamilton, ON  Ainslie Wood East  479000  43.251690   \n",
       "3   3      102 NEIL Avenue Hamilton, ON          Greenford  285900  43.227161   \n",
       "4   6   #1409 - 230 King St Toronto, ON           Downtown  362000  43.651478   \n",
       "\n",
       "   longitude    property_type      city  \n",
       "0 -79.544266            House   Toronto  \n",
       "1 -79.904396  Condo/Apartment  Hamilton  \n",
       "2 -79.919357            House  Hamilton  \n",
       "3 -79.767403            House  Hamilton  \n",
       "4 -79.368118  Condo/Apartment   Toronto  "
      ]
     },
     "execution_count": 105,
     "metadata": {},
     "output_type": "execute_result"
    }
   ],
   "source": [
    "houses.head()"
   ]
  },
  {
   "cell_type": "code",
   "execution_count": 106,
   "metadata": {},
   "outputs": [
    {
     "data": {
      "text/plain": [
       "579"
      ]
     },
     "execution_count": 106,
     "metadata": {},
     "output_type": "execute_result"
    }
   ],
   "source": [
    "# Check how many city does the DataFrame have\n",
    "houses.city.nunique()"
   ]
  },
  {
   "cell_type": "code",
   "execution_count": 111,
   "metadata": {},
   "outputs": [],
   "source": [
    "# It only works with cities that have one word\n",
    "houses.drop('city',axis=1,inplace=True)"
   ]
  },
  {
   "cell_type": "code",
   "execution_count": 108,
   "metadata": {},
   "outputs": [],
   "source": [
    "# Using map to create dummy variable for property type\n",
    "houses['proptype_dummy'] = houses.property_type.map({'House':0,'Condo/Apartment':1})"
   ]
  },
  {
   "cell_type": "code",
   "execution_count": 112,
   "metadata": {},
   "outputs": [
    {
     "data": {
      "text/html": [
       "<div>\n",
       "<style scoped>\n",
       "    .dataframe tbody tr th:only-of-type {\n",
       "        vertical-align: middle;\n",
       "    }\n",
       "\n",
       "    .dataframe tbody tr th {\n",
       "        vertical-align: top;\n",
       "    }\n",
       "\n",
       "    .dataframe thead th {\n",
       "        text-align: right;\n",
       "    }\n",
       "</style>\n",
       "<table border=\"1\" class=\"dataframe\">\n",
       "  <thead>\n",
       "    <tr style=\"text-align: right;\">\n",
       "      <th></th>\n",
       "      <th>id</th>\n",
       "      <th>address</th>\n",
       "      <th>area_name</th>\n",
       "      <th>price</th>\n",
       "      <th>latitude</th>\n",
       "      <th>longitude</th>\n",
       "      <th>property_type</th>\n",
       "      <th>proptype_dummy</th>\n",
       "    </tr>\n",
       "  </thead>\n",
       "  <tbody>\n",
       "    <tr>\n",
       "      <td>0</td>\n",
       "      <td>0</td>\n",
       "      <td>86 Waterford Dr Toronto, ON</td>\n",
       "      <td>Richview</td>\n",
       "      <td>999888</td>\n",
       "      <td>43.679882</td>\n",
       "      <td>-79.544266</td>\n",
       "      <td>House</td>\n",
       "      <td>0</td>\n",
       "    </tr>\n",
       "    <tr>\n",
       "      <td>1</td>\n",
       "      <td>1</td>\n",
       "      <td>#80 - 100 BEDDOE DR Hamilton, ON</td>\n",
       "      <td>Chedoke Park B</td>\n",
       "      <td>399900</td>\n",
       "      <td>43.250000</td>\n",
       "      <td>-79.904396</td>\n",
       "      <td>Condo/Apartment</td>\n",
       "      <td>1</td>\n",
       "    </tr>\n",
       "    <tr>\n",
       "      <td>2</td>\n",
       "      <td>2</td>\n",
       "      <td>213 Bowman Street Hamilton, ON</td>\n",
       "      <td>Ainslie Wood East</td>\n",
       "      <td>479000</td>\n",
       "      <td>43.251690</td>\n",
       "      <td>-79.919357</td>\n",
       "      <td>House</td>\n",
       "      <td>0</td>\n",
       "    </tr>\n",
       "    <tr>\n",
       "      <td>3</td>\n",
       "      <td>3</td>\n",
       "      <td>102 NEIL Avenue Hamilton, ON</td>\n",
       "      <td>Greenford</td>\n",
       "      <td>285900</td>\n",
       "      <td>43.227161</td>\n",
       "      <td>-79.767403</td>\n",
       "      <td>House</td>\n",
       "      <td>0</td>\n",
       "    </tr>\n",
       "    <tr>\n",
       "      <td>4</td>\n",
       "      <td>6</td>\n",
       "      <td>#1409 - 230 King St Toronto, ON</td>\n",
       "      <td>Downtown</td>\n",
       "      <td>362000</td>\n",
       "      <td>43.651478</td>\n",
       "      <td>-79.368118</td>\n",
       "      <td>Condo/Apartment</td>\n",
       "      <td>1</td>\n",
       "    </tr>\n",
       "  </tbody>\n",
       "</table>\n",
       "</div>"
      ],
      "text/plain": [
       "   id                           address          area_name   price   latitude  \\\n",
       "0   0       86 Waterford Dr Toronto, ON           Richview  999888  43.679882   \n",
       "1   1  #80 - 100 BEDDOE DR Hamilton, ON     Chedoke Park B  399900  43.250000   \n",
       "2   2    213 Bowman Street Hamilton, ON  Ainslie Wood East  479000  43.251690   \n",
       "3   3      102 NEIL Avenue Hamilton, ON          Greenford  285900  43.227161   \n",
       "4   6   #1409 - 230 King St Toronto, ON           Downtown  362000  43.651478   \n",
       "\n",
       "   longitude    property_type  proptype_dummy  \n",
       "0 -79.544266            House               0  \n",
       "1 -79.904396  Condo/Apartment               1  \n",
       "2 -79.919357            House               0  \n",
       "3 -79.767403            House               0  \n",
       "4 -79.368118  Condo/Apartment               1  "
      ]
     },
     "execution_count": 112,
     "metadata": {},
     "output_type": "execute_result"
    }
   ],
   "source": [
    "houses.head()"
   ]
  },
  {
   "cell_type": "code",
   "execution_count": 86,
   "metadata": {},
   "outputs": [],
   "source": [
    "# 1. Import\n",
    "# Import module for fitting\n",
    "from sklearn.linear_model import LogisticRegression"
   ]
  },
  {
   "cell_type": "code",
   "execution_count": 127,
   "metadata": {},
   "outputs": [],
   "source": [
    "# 2. Instantiate model to prevent future warning\n",
    "# Create instance of LogisticRegression\n",
    "logreg = LogisticRegression(solver = 'liblinear', multi_class = 'ovr')"
   ]
  },
  {
   "cell_type": "code",
   "execution_count": 147,
   "metadata": {},
   "outputs": [],
   "source": [
    "# Split data into 'X' features and 'y' target label sets\n",
    "feature_cols = ['price']"
   ]
  },
  {
   "cell_type": "code",
   "execution_count": 148,
   "metadata": {},
   "outputs": [],
   "source": [
    "# Fetch all rows and feature columns\n",
    "X = houses.loc[:,feature_cols]"
   ]
  },
  {
   "cell_type": "code",
   "execution_count": 149,
   "metadata": {},
   "outputs": [
    {
     "data": {
      "text/plain": [
       "(23212, 1)"
      ]
     },
     "execution_count": 149,
     "metadata": {},
     "output_type": "execute_result"
    }
   ],
   "source": [
    "X.shape"
   ]
  },
  {
   "cell_type": "code",
   "execution_count": 150,
   "metadata": {},
   "outputs": [],
   "source": [
    "# Create 'Y' target label\n",
    "y = houses['proptype_dummy']"
   ]
  },
  {
   "cell_type": "code",
   "execution_count": 151,
   "metadata": {},
   "outputs": [],
   "source": [
    "# Import module to split dataset\n",
    "from sklearn.model_selection import train_test_split\n",
    "\n",
    "# Split data into train and test sets\n",
    "X_train, X_test, y_train, y_test = train_test_split(X, y, test_size=0.25, random_state=0)"
   ]
  },
  {
   "cell_type": "code",
   "execution_count": 152,
   "metadata": {},
   "outputs": [
    {
     "data": {
      "text/plain": [
       "LogisticRegression(C=1.0, class_weight=None, dual=False, fit_intercept=True,\n",
       "                   intercept_scaling=1, l1_ratio=None, max_iter=100,\n",
       "                   multi_class='ovr', n_jobs=None, penalty='l2',\n",
       "                   random_state=None, solver='liblinear', tol=0.0001, verbose=0,\n",
       "                   warm_start=False)"
      ]
     },
     "execution_count": 152,
     "metadata": {},
     "output_type": "execute_result"
    }
   ],
   "source": [
    "# 3. Fit\n",
    "# Create the train model\n",
    "logreg.fit(X_train,Y_train)"
   ]
  },
  {
   "cell_type": "code",
   "execution_count": 153,
   "metadata": {},
   "outputs": [],
   "source": [
    "# 4. Predict\n",
    "y_pred=logreg.predict(X_test)"
   ]
  },
  {
   "cell_type": "code",
   "execution_count": 136,
   "metadata": {},
   "outputs": [],
   "source": [
    "# Create X_new features for test data\n",
    "test = houses.drop('proptype_dummy',axis=1)"
   ]
  },
  {
   "cell_type": "code",
   "execution_count": 138,
   "metadata": {},
   "outputs": [
    {
     "data": {
      "text/html": [
       "<div>\n",
       "<style scoped>\n",
       "    .dataframe tbody tr th:only-of-type {\n",
       "        vertical-align: middle;\n",
       "    }\n",
       "\n",
       "    .dataframe tbody tr th {\n",
       "        vertical-align: top;\n",
       "    }\n",
       "\n",
       "    .dataframe thead th {\n",
       "        text-align: right;\n",
       "    }\n",
       "</style>\n",
       "<table border=\"1\" class=\"dataframe\">\n",
       "  <thead>\n",
       "    <tr style=\"text-align: right;\">\n",
       "      <th></th>\n",
       "      <th>id</th>\n",
       "      <th>address</th>\n",
       "      <th>area_name</th>\n",
       "      <th>price</th>\n",
       "      <th>latitude</th>\n",
       "      <th>longitude</th>\n",
       "      <th>property_type</th>\n",
       "    </tr>\n",
       "  </thead>\n",
       "  <tbody>\n",
       "    <tr>\n",
       "      <td>0</td>\n",
       "      <td>0</td>\n",
       "      <td>86 Waterford Dr Toronto, ON</td>\n",
       "      <td>Richview</td>\n",
       "      <td>999888</td>\n",
       "      <td>43.679882</td>\n",
       "      <td>-79.544266</td>\n",
       "      <td>House</td>\n",
       "    </tr>\n",
       "    <tr>\n",
       "      <td>1</td>\n",
       "      <td>1</td>\n",
       "      <td>#80 - 100 BEDDOE DR Hamilton, ON</td>\n",
       "      <td>Chedoke Park B</td>\n",
       "      <td>399900</td>\n",
       "      <td>43.250000</td>\n",
       "      <td>-79.904396</td>\n",
       "      <td>Condo/Apartment</td>\n",
       "    </tr>\n",
       "    <tr>\n",
       "      <td>2</td>\n",
       "      <td>2</td>\n",
       "      <td>213 Bowman Street Hamilton, ON</td>\n",
       "      <td>Ainslie Wood East</td>\n",
       "      <td>479000</td>\n",
       "      <td>43.251690</td>\n",
       "      <td>-79.919357</td>\n",
       "      <td>House</td>\n",
       "    </tr>\n",
       "    <tr>\n",
       "      <td>3</td>\n",
       "      <td>3</td>\n",
       "      <td>102 NEIL Avenue Hamilton, ON</td>\n",
       "      <td>Greenford</td>\n",
       "      <td>285900</td>\n",
       "      <td>43.227161</td>\n",
       "      <td>-79.767403</td>\n",
       "      <td>House</td>\n",
       "    </tr>\n",
       "    <tr>\n",
       "      <td>4</td>\n",
       "      <td>6</td>\n",
       "      <td>#1409 - 230 King St Toronto, ON</td>\n",
       "      <td>Downtown</td>\n",
       "      <td>362000</td>\n",
       "      <td>43.651478</td>\n",
       "      <td>-79.368118</td>\n",
       "      <td>Condo/Apartment</td>\n",
       "    </tr>\n",
       "  </tbody>\n",
       "</table>\n",
       "</div>"
      ],
      "text/plain": [
       "   id                           address          area_name   price   latitude  \\\n",
       "0   0       86 Waterford Dr Toronto, ON           Richview  999888  43.679882   \n",
       "1   1  #80 - 100 BEDDOE DR Hamilton, ON     Chedoke Park B  399900  43.250000   \n",
       "2   2    213 Bowman Street Hamilton, ON  Ainslie Wood East  479000  43.251690   \n",
       "3   3      102 NEIL Avenue Hamilton, ON          Greenford  285900  43.227161   \n",
       "4   6   #1409 - 230 King St Toronto, ON           Downtown  362000  43.651478   \n",
       "\n",
       "   longitude    property_type  \n",
       "0 -79.544266            House  \n",
       "1 -79.904396  Condo/Apartment  \n",
       "2 -79.919357            House  \n",
       "3 -79.767403            House  \n",
       "4 -79.368118  Condo/Apartment  "
      ]
     },
     "execution_count": 138,
     "metadata": {},
     "output_type": "execute_result"
    }
   ],
   "source": [
    "test.head()"
   ]
  },
  {
   "cell_type": "code",
   "execution_count": 154,
   "metadata": {},
   "outputs": [],
   "source": [
    "# import classification_report to see the precision of model\n",
    "from sklearn.metrics import classification_report"
   ]
  },
  {
   "cell_type": "code",
   "execution_count": 155,
   "metadata": {},
   "outputs": [
    {
     "name": "stdout",
     "output_type": "stream",
     "text": [
      "              precision    recall  f1-score   support\n",
      "\n",
      "           0       0.77      1.00      0.87      4455\n",
      "           1       0.00      0.00      0.00      1348\n",
      "\n",
      "    accuracy                           0.77      5803\n",
      "   macro avg       0.38      0.50      0.43      5803\n",
      "weighted avg       0.59      0.77      0.67      5803\n",
      "\n"
     ]
    },
    {
     "name": "stderr",
     "output_type": "stream",
     "text": [
      "/home/tyler/anaconda3/lib/python3.7/site-packages/sklearn/metrics/classification.py:1437: UndefinedMetricWarning: Precision and F-score are ill-defined and being set to 0.0 in labels with no predicted samples.\n",
      "  'precision', 'predicted', average, warn_for)\n"
     ]
    }
   ],
   "source": [
    "print(classification_report(y_test,y_pred))"
   ]
  },
  {
   "cell_type": "code",
   "execution_count": null,
   "metadata": {},
   "outputs": [],
   "source": []
  },
  {
   "cell_type": "code",
   "execution_count": null,
   "metadata": {},
   "outputs": [],
   "source": []
  }
 ],
 "metadata": {
  "kernelspec": {
   "display_name": "Python 3",
   "language": "python",
   "name": "python3"
  },
  "language_info": {
   "codemirror_mode": {
    "name": "ipython",
    "version": 3
   },
   "file_extension": ".py",
   "mimetype": "text/x-python",
   "name": "python",
   "nbconvert_exporter": "python",
   "pygments_lexer": "ipython3",
   "version": "3.7.4"
  }
 },
 "nbformat": 4,
 "nbformat_minor": 2
}
